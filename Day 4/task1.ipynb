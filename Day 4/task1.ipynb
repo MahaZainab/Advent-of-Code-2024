{
 "cells": [
  {
   "cell_type": "code",
   "execution_count": 2,
   "metadata": {},
   "outputs": [
    {
     "name": "stdout",
     "output_type": "stream",
     "text": [
      "The word 'XMAS' appears 2573 times.\n"
     ]
    }
   ],
   "source": [
    "def read_input(file_path):\n",
    "    \"\"\"Reads the input grid from a file.\"\"\"\n",
    "    with open(file_path, 'r') as file:\n",
    "        return [line.strip() for line in file.readlines()]\n",
    "\n",
    "def find_xmas_in_grid(grid):\n",
    "    \"\"\"Finds all occurrences of the word 'XMAS' in the grid.\"\"\"\n",
    "    word = \"XMAS\"\n",
    "    word_length = len(word)\n",
    "    num_rows = len(grid)\n",
    "    num_cols = len(grid[0])\n",
    "    count = 0\n",
    "\n",
    "    # Directions for checking:\n",
    "    # (row_change, col_change) for the 8 possible directions\n",
    "    directions = [\n",
    "        (-1, 0),  # up\n",
    "        (1, 0),   # down\n",
    "        (0, -1),  # left\n",
    "        (0, 1),   # right\n",
    "        (-1, -1), # top-left diagonal\n",
    "        (-1, 1),  # top-right diagonal\n",
    "        (1, -1),  # bottom-left diagonal\n",
    "        (1, 1)    # bottom-right diagonal\n",
    "    ]\n",
    "\n",
    "    # Function to check if \"XMAS\" can be found from a given start position\n",
    "    def is_valid_direction(r, c, dr, dc):\n",
    "        \"\"\"Check if 'XMAS' can be formed starting from (r, c) in direction (dr, dc).\"\"\"\n",
    "        for i in range(word_length):\n",
    "            new_r, new_c = r + i * dr, c + i * dc\n",
    "            if not (0 <= new_r < num_rows and 0 <= new_c < num_cols):  # Out of bounds\n",
    "                return False\n",
    "            if grid[new_r][new_c] != word[i]:  # Character mismatch\n",
    "                return False\n",
    "        return True\n",
    "\n",
    "    # Iterate over each cell in the grid\n",
    "    for r in range(num_rows):\n",
    "        for c in range(num_cols):\n",
    "            # Check in all 8 possible directions\n",
    "            for dr, dc in directions:\n",
    "                if is_valid_direction(r, c, dr, dc):\n",
    "                    count += 1\n",
    "\n",
    "    return count\n",
    "\n",
    "# Main function to execute the puzzle solution\n",
    "def main():\n",
    "    # File path to input.txt\n",
    "    input_file = 'input.txt'\n",
    "    \n",
    "    # Read the grid from the file\n",
    "    grid = read_input(input_file)\n",
    "\n",
    "    # Find all occurrences of \"XMAS\" in the grid\n",
    "    result = find_xmas_in_grid(grid)\n",
    "\n",
    "    # Output the result\n",
    "    print(f\"The word 'XMAS' appears {result} times.\")\n",
    "\n",
    "# Run the main function\n",
    "if __name__ == \"__main__\":\n",
    "    main()\n"
   ]
  },
  {
   "cell_type": "code",
   "execution_count": null,
   "metadata": {},
   "outputs": [],
   "source": []
  }
 ],
 "metadata": {
  "kernelspec": {
   "display_name": "Python 3",
   "language": "python",
   "name": "python3"
  },
  "language_info": {
   "codemirror_mode": {
    "name": "ipython",
    "version": 3
   },
   "file_extension": ".py",
   "mimetype": "text/x-python",
   "name": "python",
   "nbconvert_exporter": "python",
   "pygments_lexer": "ipython3",
   "version": "3.12.5"
  }
 },
 "nbformat": 4,
 "nbformat_minor": 2
}
