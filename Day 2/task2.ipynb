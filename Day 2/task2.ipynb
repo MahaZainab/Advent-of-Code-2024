{
 "cells": [
  {
   "cell_type": "code",
   "execution_count": 1,
   "metadata": {},
   "outputs": [
    {
     "name": "stdout",
     "output_type": "stream",
     "text": [
      "Number of safe reports: 465\n"
     ]
    }
   ],
   "source": [
    "def is_safe_report(report):\n",
    "    # Check if levels are either strictly increasing or decreasing\n",
    "    is_increasing = True\n",
    "    is_decreasing = True\n",
    "    \n",
    "    # Check if adjacent levels differ by between 1 and 3 (inclusive)\n",
    "    for i in range(len(report) - 1):\n",
    "        diff = abs(report[i] - report[i + 1])\n",
    "        \n",
    "        # Check if the difference is between 1 and 3 (inclusive)\n",
    "        if diff < 1 or diff > 3:\n",
    "            return False  # Immediately return False if the difference condition fails\n",
    "        \n",
    "        # Check for increasing or decreasing trend\n",
    "        if report[i] < report[i + 1]:\n",
    "            is_decreasing = False  # Not decreasing\n",
    "        elif report[i] > report[i + 1]:\n",
    "            is_increasing = False  # Not increasing\n",
    "    \n",
    "    # The report is safe if it's either all increasing or all decreasing\n",
    "    return is_increasing or is_decreasing\n",
    "\n",
    "def is_safe_with_one_removal(report):\n",
    "    # Try removing each level and check if the report becomes safe\n",
    "    for i in range(len(report)):\n",
    "        # Create a new report with the i-th level removed\n",
    "        new_report = report[:i] + report[i+1:]\n",
    "        \n",
    "        # Check if the new report is safe\n",
    "        if is_safe_report(new_report):\n",
    "            return True\n",
    "    \n",
    "    return False\n",
    "\n",
    "def read_input_file(file_path):\n",
    "    reports = []\n",
    "    with open(file_path, 'r') as file:\n",
    "        for line in file:\n",
    "            # Convert each report from a string to a list of integers\n",
    "            reports.append(list(map(int, line.split())))\n",
    "    return reports\n",
    "\n",
    "def count_safe_reports(file_path):\n",
    "    reports = read_input_file(file_path)\n",
    "    safe_count = 0\n",
    "    \n",
    "    for report in reports:\n",
    "        # If the report is already safe or becomes safe with one removal\n",
    "        if is_safe_report(report) or is_safe_with_one_removal(report):\n",
    "            safe_count += 1\n",
    "    \n",
    "    return safe_count\n",
    "\n",
    "# File path (replace with the actual path to your input file)\n",
    "file_path = 'input.txt'  # Change this to the actual file path\n",
    "\n",
    "# Calculate and print the number of safe reports\n",
    "safe_reports = count_safe_reports(file_path)\n",
    "print(\"Number of safe reports:\", safe_reports)\n"
   ]
  },
  {
   "cell_type": "code",
   "execution_count": null,
   "metadata": {},
   "outputs": [],
   "source": []
  }
 ],
 "metadata": {
  "kernelspec": {
   "display_name": "Python 3",
   "language": "python",
   "name": "python3"
  },
  "language_info": {
   "codemirror_mode": {
    "name": "ipython",
    "version": 3
   },
   "file_extension": ".py",
   "mimetype": "text/x-python",
   "name": "python",
   "nbconvert_exporter": "python",
   "pygments_lexer": "ipython3",
   "version": "3.12.5"
  }
 },
 "nbformat": 4,
 "nbformat_minor": 2
}
