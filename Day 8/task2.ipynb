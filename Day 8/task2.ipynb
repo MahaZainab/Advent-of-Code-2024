{
 "cells": [
  {
   "cell_type": "code",
   "execution_count": 1,
   "metadata": {},
   "outputs": [
    {
     "name": "stdout",
     "output_type": "stream",
     "text": [
      "Total unique antinode positions: 0\n"
     ]
    }
   ],
   "source": [
    "def parse_grid(input_lines):\n",
    "    antennas = {}\n",
    "    # Scan the grid to collect antenna positions\n",
    "    for r, line in enumerate(input_lines):\n",
    "        for c, char in enumerate(line.strip()):\n",
    "            if char != \".\":\n",
    "                if char not in antennas:\n",
    "                    antennas[char] = {'rows': [], 'cols': []}\n",
    "                antennas[char]['rows'].append(r)\n",
    "                antennas[char]['cols'].append(c)\n",
    "    return antennas\n",
    "\n",
    "def calculate_antinodes(antennas, grid_height, grid_width):\n",
    "    antinodes = set()\n",
    "\n",
    "    # For each frequency, calculate antinodes created by aligning antennas in rows or columns\n",
    "    for freq, positions in antennas.items():\n",
    "        rows = positions['rows']\n",
    "        cols = positions['cols']\n",
    "\n",
    "        # Check for antennas in the same row\n",
    "        for r in rows:\n",
    "            if rows.count(r) > 1:\n",
    "                for c in range(grid_width):\n",
    "                    antinodes.add((r, c))\n",
    "\n",
    "        # Check for antennas in the same column\n",
    "        for c in cols:\n",
    "            if cols.count(c) > 1:\n",
    "                for r in range(grid_height):\n",
    "                    antinodes.add((r, c))\n",
    "\n",
    "    return len(antinodes)\n",
    "\n",
    "# Read the input from the file (input.txt)\n",
    "def read_input(file_path):\n",
    "    with open(file_path, 'r') as file:\n",
    "        return file.readlines()\n",
    "\n",
    "# Read the grid from 'input.txt'\n",
    "input_file_path = 'input.txt'\n",
    "input_data = read_input(input_file_path)\n",
    "\n",
    "# Parse the grid and identify antenna positions\n",
    "antennas = parse_grid(input_data)\n",
    "\n",
    "# Get grid dimensions\n",
    "grid_height = len(input_data)\n",
    "grid_width = len(input_data[0].strip())\n",
    "\n",
    "# Calculate the number of unique antinode positions\n",
    "result = calculate_antinodes(antennas, grid_height, grid_width)\n",
    "\n",
    "print(f\"Total unique antinode positions: {result}\")\n"
   ]
  },
  {
   "cell_type": "code",
   "execution_count": 2,
   "metadata": {},
   "outputs": [
    {
     "name": "stdout",
     "output_type": "stream",
     "text": [
      "Number of unique antinode locations: 951\n"
     ]
    }
   ],
   "source": [
    "def find_all_antinodes(file_path):\n",
    "    from collections import defaultdict\n",
    "    # Step 1: Read the input file and parse the grid\n",
    "    with open(file_path, 'r') as file:\n",
    "        grid = [line.strip() for line in file.readlines()]\n",
    "    # Parse grid to collect antenna positions by frequency\n",
    "    antenna_positions = defaultdict(list)\n",
    "    rows = len(grid)\n",
    "    cols = len(grid[0])\n",
    "    for r in range(rows):\n",
    "        for c in range(cols):\n",
    "            char = grid[r][c]\n",
    "            if char.isalnum():  # Antennas are letters or digits\n",
    "                antenna_positions[char].append((r, c))\n",
    "    # Step 2: Find all antinodes for each frequency\n",
    "    unique_antinodes = set()\n",
    "    for freq, positions in antenna_positions.items():\n",
    "        n = len(positions)\n",
    "        if n < 2:\n",
    "            continue  # No antinodes possible with fewer than 2 antennas\n",
    "        # Add all antenna positions as antinodes\n",
    "        unique_antinodes.update(positions)\n",
    "        for i in range(n):\n",
    "            for j in range(i + 1, n):\n",
    "                r1, c1 = positions[i]\n",
    "                r2, c2 = positions[j]\n",
    "                # Compute direction vector\n",
    "                dr = r2 - r1\n",
    "                dc = c2 - c1\n",
    "                # Generate all points along the line\n",
    "                for k in range(-max(rows, cols), max(rows, cols) + 1):\n",
    "                    r_antin = r1 + k * dr\n",
    "                    c_antin = c1 + k * dc\n",
    "                    # Add valid antinodes within bounds\n",
    "                    if 0 <= r_antin < rows and 0 <= c_antin < cols:\n",
    "                        unique_antinodes.add((r_antin, c_antin))\n",
    "    # Step 3: Return the count of unique antinodes\n",
    "    return len(unique_antinodes)\n",
    "# Path to the input file\n",
    "file_path = \"input.txt\"\n",
    "\n",
    "\n",
    "# Call the function and print the result\n",
    "unique_count = find_all_antinodes(file_path)\n",
    "print(f\"Number of unique antinode locations: {unique_count}\")"
   ]
  },
  {
   "cell_type": "code",
   "execution_count": null,
   "metadata": {},
   "outputs": [],
   "source": []
  }
 ],
 "metadata": {
  "kernelspec": {
   "display_name": "Python 3",
   "language": "python",
   "name": "python3"
  },
  "language_info": {
   "codemirror_mode": {
    "name": "ipython",
    "version": 3
   },
   "file_extension": ".py",
   "mimetype": "text/x-python",
   "name": "python",
   "nbconvert_exporter": "python",
   "pygments_lexer": "ipython3",
   "version": "3.12.5"
  }
 },
 "nbformat": 4,
 "nbformat_minor": 2
}
