{
 "cells": [
  {
   "cell_type": "code",
   "execution_count": null,
   "metadata": {},
   "outputs": [],
   "source": []
  },
  {
   "cell_type": "code",
   "execution_count": null,
   "metadata": {},
   "outputs": [],
   "source": []
  },
  {
   "cell_type": "code",
   "execution_count": 4,
   "metadata": {},
   "outputs": [
    {
     "name": "stdout",
     "output_type": "stream",
     "text": [
      "The total sum of enabled multiplications is: 87163705\n"
     ]
    }
   ],
   "source": [
    "import re\n",
    "\n",
    "def evaluate_instructions(instructions):\n",
    "    # Initialize the state\n",
    "    enabled = True  # Mul instructions are enabled by default\n",
    "    total_sum = 0\n",
    "\n",
    "    # Regular expression to match mul(x, y), do(), and don't() instructions\n",
    "    mul_pattern = re.compile(r'mul\\((\\d+),(\\d+)\\)')\n",
    "    do_pattern = re.compile(r'do\\(\\)')\n",
    "    dont_pattern = re.compile(r'don\\'t\\(\\)')\n",
    "    \n",
    "    i = 0\n",
    "    while i < len(instructions):\n",
    "        # Check for 'mul(x, y)' pattern\n",
    "        mul_match = mul_pattern.match(instructions, i)\n",
    "        if mul_match:\n",
    "            x = int(mul_match.group(1))\n",
    "            y = int(mul_match.group(2))\n",
    "            if enabled:\n",
    "                total_sum += x * y\n",
    "            i = mul_match.end()\n",
    "            continue\n",
    "        \n",
    "        # Check for 'do()' pattern\n",
    "        if do_pattern.match(instructions, i):\n",
    "            enabled = True  # Enable future mul instructions\n",
    "            i = do_pattern.match(instructions, i).end()\n",
    "            continue\n",
    "        \n",
    "        # Check for 'don't()' pattern\n",
    "        if dont_pattern.match(instructions, i):\n",
    "            enabled = False  # Disable future mul instructions\n",
    "            i = dont_pattern.match(instructions, i).end()\n",
    "            continue\n",
    "        \n",
    "        # If we reach here, just move to the next character\n",
    "        i += 1\n",
    "\n",
    "    return total_sum\n",
    "\n",
    "def main():\n",
    "    # Read the instructions from input.txt\n",
    "    with open('input.txt', 'r') as file:\n",
    "        instructions = file.read().strip()\n",
    "    \n",
    "    # Evaluate the instructions\n",
    "    result = evaluate_instructions(instructions)\n",
    "    \n",
    "    # Print the result\n",
    "    print(f\"The total sum of enabled multiplications is: {result}\")\n",
    "\n",
    "if __name__ == \"__main__\":\n",
    "    main()\n"
   ]
  },
  {
   "cell_type": "code",
   "execution_count": null,
   "metadata": {},
   "outputs": [],
   "source": []
  }
 ],
 "metadata": {
  "kernelspec": {
   "display_name": "Python 3",
   "language": "python",
   "name": "python3"
  },
  "language_info": {
   "codemirror_mode": {
    "name": "ipython",
    "version": 3
   },
   "file_extension": ".py",
   "mimetype": "text/x-python",
   "name": "python",
   "nbconvert_exporter": "python",
   "pygments_lexer": "ipython3",
   "version": "3.12.5"
  }
 },
 "nbformat": 4,
 "nbformat_minor": 2
}
