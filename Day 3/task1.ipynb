{
 "cells": [
  {
   "cell_type": "code",
   "execution_count": 1,
   "metadata": {},
   "outputs": [
    {
     "name": "stdout",
     "output_type": "stream",
     "text": [
      "Total sum of multiplications: 178886550\n"
     ]
    }
   ],
   "source": [
    "import re\n",
    "\n",
    "# Function to solve the corrupted memory problem\n",
    "def solve_corrupted_memory(corrupted_memory):\n",
    "    # Define a regular expression pattern to match 'mul(X,Y)' where X and Y are integers\n",
    "    pattern = r\"mul\\((\\d+),(\\d+)\\)\"\n",
    "    \n",
    "    # Find all matches for the 'mul(X,Y)' pattern\n",
    "    matches = re.findall(pattern, corrupted_memory)\n",
    "    \n",
    "    # Initialize the total sum\n",
    "    total_sum = 0\n",
    "    \n",
    "    # For each match, parse the two numbers, multiply them, and add the result to the total\n",
    "    for match in matches:\n",
    "        x = int(match[0])  # Convert first number (X) to an integer\n",
    "        y = int(match[1])  # Convert second number (Y) to an integer\n",
    "        total_sum += x * y\n",
    "    \n",
    "    return total_sum\n",
    "\n",
    "# Function to read input from a file\n",
    "def read_input_from_file(filename):\n",
    "    try:\n",
    "        with open(filename, 'r') as file:\n",
    "            # Read the entire content of the file\n",
    "            return file.read().strip()  # Read all text and remove any surrounding whitespace\n",
    "    except FileNotFoundError:\n",
    "        print(f\"Error: The file '{filename}' was not found.\")\n",
    "        return \"\"\n",
    "\n",
    "# Main function to solve the problem\n",
    "def main():\n",
    "    # Input file containing the corrupted memory\n",
    "    filename = 'input.txt'\n",
    "    \n",
    "    # Read the input data from the file\n",
    "    corrupted_memory = read_input_from_file(filename)\n",
    "    \n",
    "    # If the file is successfully read\n",
    "    if corrupted_memory:\n",
    "        # Call the function to solve the problem and print the result\n",
    "        result = solve_corrupted_memory(corrupted_memory)\n",
    "        print(f\"Total sum of multiplications: {result}\")\n",
    "    else:\n",
    "        print(\"No valid input to process.\")\n",
    "\n",
    "# Execute the main function\n",
    "if __name__ == \"__main__\":\n",
    "    main()\n"
   ]
  },
  {
   "cell_type": "code",
   "execution_count": null,
   "metadata": {},
   "outputs": [],
   "source": []
  }
 ],
 "metadata": {
  "kernelspec": {
   "display_name": "Python 3",
   "language": "python",
   "name": "python3"
  },
  "language_info": {
   "codemirror_mode": {
    "name": "ipython",
    "version": 3
   },
   "file_extension": ".py",
   "mimetype": "text/x-python",
   "name": "python",
   "nbconvert_exporter": "python",
   "pygments_lexer": "ipython3",
   "version": "3.12.5"
  }
 },
 "nbformat": 4,
 "nbformat_minor": 2
}
