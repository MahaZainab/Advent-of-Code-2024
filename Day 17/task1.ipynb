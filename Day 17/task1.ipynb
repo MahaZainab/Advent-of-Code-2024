{
 "cells": [
  {
   "cell_type": "code",
   "execution_count": 1,
   "metadata": {},
   "outputs": [
    {
     "data": {
      "text/plain": [
       "'4,6,3,5,6,3,5,2,1,0'"
      ]
     },
     "execution_count": 1,
     "metadata": {},
     "output_type": "execute_result"
    }
   ],
   "source": [
    "def execute_program(program, A, B, C):\n",
    "    ip = 0\n",
    "    output = []\n",
    "    \n",
    "    def get_combo_value(operand):\n",
    "        if operand <= 3:\n",
    "            return operand\n",
    "        elif operand == 4:\n",
    "            return A\n",
    "        elif operand == 5:\n",
    "            return B\n",
    "        elif operand == 6:\n",
    "            return C\n",
    "        elif operand == 7:\n",
    "            raise ValueError(\"Invalid operand 7 is reserved\")\n",
    "    \n",
    "    while ip < len(program):\n",
    "        if ip + 1 >= len(program):\n",
    "            break  # Prevent reading beyond the list\n",
    "        opcode = program[ip]\n",
    "        operand = program[ip + 1]\n",
    "        \n",
    "        if opcode == 0:  # adv\n",
    "            A = A // (2 ** get_combo_value(operand))\n",
    "        elif opcode == 1:  # bxl\n",
    "            B = B ^ operand\n",
    "        elif opcode == 2:  # bst\n",
    "            B = get_combo_value(operand) % 8\n",
    "        elif opcode == 3:  # jnz\n",
    "            if A != 0:\n",
    "                ip = operand\n",
    "                continue\n",
    "        elif opcode == 4:  # bxc\n",
    "            B = B ^ C\n",
    "        elif opcode == 5:  # out\n",
    "            output.append(str(get_combo_value(operand) % 8))\n",
    "        elif opcode == 6:  # bdv\n",
    "            B = A // (2 ** get_combo_value(operand))\n",
    "        elif opcode == 7:  # cdv\n",
    "            C = A // (2 ** get_combo_value(operand))\n",
    "        \n",
    "        # By default, increment the instruction pointer by 2 to get to the next opcode\n",
    "        ip += 2\n",
    "\n",
    "    return \",\".join(output)\n",
    "\n",
    "# Given initial values from the problem\n",
    "A = 729\n",
    "B = 0\n",
    "C = 0\n",
    "\n",
    "# Given program from the problem\n",
    "program = [0,1,5,4,3,0]\n",
    "\n",
    "# Execute the program and get output\n",
    "execute_program(program, A, B, C)\n"
   ]
  },
  {
   "cell_type": "code",
   "execution_count": 2,
   "metadata": {},
   "outputs": [
    {
     "data": {
      "text/plain": [
       "'1,5,0,3,7,3,0,3,1'"
      ]
     },
     "execution_count": 2,
     "metadata": {},
     "output_type": "execute_result"
    }
   ],
   "source": [
    "# Updated values for registers A, B, C\n",
    "A = 44374556\n",
    "B = 0\n",
    "C = 0\n",
    "\n",
    "# Updated program sequence\n",
    "program = [2, 4, 1, 5, 7, 5, 1, 6, 0, 3, 4, 1, 5, 5, 3, 0]\n",
    "\n",
    "# Using the previously defined function to execute the program\n",
    "output = execute_program(program, A, B, C)\n",
    "output"
   ]
  },
  {
   "cell_type": "code",
   "execution_count": 3,
   "metadata": {},
   "outputs": [
    {
     "ename": "KeyboardInterrupt",
     "evalue": "",
     "output_type": "error",
     "traceback": [
      "\u001b[1;31m---------------------------------------------------------------------------\u001b[0m",
      "\u001b[1;31mKeyboardInterrupt\u001b[0m                         Traceback (most recent call last)",
      "Cell \u001b[1;32mIn[3], line 18\u001b[0m\n\u001b[0;32m     15\u001b[0m program \u001b[38;5;241m=\u001b[39m [\u001b[38;5;241m2\u001b[39m, \u001b[38;5;241m4\u001b[39m, \u001b[38;5;241m1\u001b[39m, \u001b[38;5;241m5\u001b[39m, \u001b[38;5;241m7\u001b[39m, \u001b[38;5;241m5\u001b[39m, \u001b[38;5;241m1\u001b[39m, \u001b[38;5;241m6\u001b[39m, \u001b[38;5;241m0\u001b[39m, \u001b[38;5;241m3\u001b[39m, \u001b[38;5;241m4\u001b[39m, \u001b[38;5;241m1\u001b[39m, \u001b[38;5;241m5\u001b[39m, \u001b[38;5;241m5\u001b[39m, \u001b[38;5;241m3\u001b[39m, \u001b[38;5;241m0\u001b[39m]\n\u001b[0;32m     17\u001b[0m \u001b[38;5;66;03m# Execute the search for the correct value of A\u001b[39;00m\n\u001b[1;32m---> 18\u001b[0m correct_A \u001b[38;5;241m=\u001b[39m \u001b[43mfind_correct_A_value\u001b[49m\u001b[43m(\u001b[49m\u001b[43mprogram\u001b[49m\u001b[43m)\u001b[49m\n\u001b[0;32m     19\u001b[0m correct_A\n",
      "Cell \u001b[1;32mIn[3], line 9\u001b[0m, in \u001b[0;36mfind_correct_A_value\u001b[1;34m(program)\u001b[0m\n\u001b[0;32m      6\u001b[0m target_output \u001b[38;5;241m=\u001b[39m \u001b[38;5;124m\"\u001b[39m\u001b[38;5;124m,\u001b[39m\u001b[38;5;124m\"\u001b[39m\u001b[38;5;241m.\u001b[39mjoin(\u001b[38;5;28mmap\u001b[39m(\u001b[38;5;28mstr\u001b[39m, program))\n\u001b[0;32m      8\u001b[0m \u001b[38;5;28;01mwhile\u001b[39;00m \u001b[38;5;28;01mTrue\u001b[39;00m:  \u001b[38;5;66;03m# This could potentially be an infinite loop if there's no such A\u001b[39;00m\n\u001b[1;32m----> 9\u001b[0m     current_output \u001b[38;5;241m=\u001b[39m \u001b[43mexecute_program\u001b[49m\u001b[43m(\u001b[49m\u001b[43mprogram\u001b[49m\u001b[43m,\u001b[49m\u001b[43m \u001b[49m\u001b[43mA\u001b[49m\u001b[43m,\u001b[49m\u001b[43m \u001b[49m\u001b[43mB\u001b[49m\u001b[43m,\u001b[49m\u001b[43m \u001b[49m\u001b[43mC\u001b[49m\u001b[43m)\u001b[49m\n\u001b[0;32m     10\u001b[0m     \u001b[38;5;28;01mif\u001b[39;00m current_output \u001b[38;5;241m==\u001b[39m target_output:\n\u001b[0;32m     11\u001b[0m         \u001b[38;5;28;01mreturn\u001b[39;00m A\n",
      "Cell \u001b[1;32mIn[1], line 36\u001b[0m, in \u001b[0;36mexecute_program\u001b[1;34m(program, A, B, C)\u001b[0m\n\u001b[0;32m     34\u001b[0m     B \u001b[38;5;241m=\u001b[39m B \u001b[38;5;241m^\u001b[39m C\n\u001b[0;32m     35\u001b[0m \u001b[38;5;28;01melif\u001b[39;00m opcode \u001b[38;5;241m==\u001b[39m \u001b[38;5;241m5\u001b[39m:  \u001b[38;5;66;03m# out\u001b[39;00m\n\u001b[1;32m---> 36\u001b[0m     output\u001b[38;5;241m.\u001b[39mappend(\u001b[38;5;28;43mstr\u001b[39;49m\u001b[43m(\u001b[49m\u001b[43mget_combo_value\u001b[49m\u001b[43m(\u001b[49m\u001b[43moperand\u001b[49m\u001b[43m)\u001b[49m\u001b[43m \u001b[49m\u001b[38;5;241;43m%\u001b[39;49m\u001b[43m \u001b[49m\u001b[38;5;241;43m8\u001b[39;49m\u001b[43m)\u001b[49m)\n\u001b[0;32m     37\u001b[0m \u001b[38;5;28;01melif\u001b[39;00m opcode \u001b[38;5;241m==\u001b[39m \u001b[38;5;241m6\u001b[39m:  \u001b[38;5;66;03m# bdv\u001b[39;00m\n\u001b[0;32m     38\u001b[0m     B \u001b[38;5;241m=\u001b[39m A \u001b[38;5;241m/\u001b[39m\u001b[38;5;241m/\u001b[39m (\u001b[38;5;241m2\u001b[39m \u001b[38;5;241m*\u001b[39m\u001b[38;5;241m*\u001b[39m get_combo_value(operand))\n",
      "\u001b[1;31mKeyboardInterrupt\u001b[0m: "
     ]
    }
   ],
   "source": [
    "def find_correct_A_value(program):\n",
    "    B = 0\n",
    "    C = 0\n",
    "    A = 1  # Start with the smallest positive value for A\n",
    "    \n",
    "    target_output = \",\".join(map(str, program))\n",
    "    \n",
    "    while True:  # This could potentially be an infinite loop if there's no such A\n",
    "        current_output = execute_program(program, A, B, C)\n",
    "        if current_output == target_output:\n",
    "            return A\n",
    "        A += 1  # Increment A to check the next possible value\n",
    "\n",
    "# Given values from the problem\n",
    "program = [2, 4, 1, 5, 7, 5, 1, 6, 0, 3, 4, 1, 5, 5, 3, 0]\n",
    "\n",
    "# Execute the search for the correct value of A\n",
    "correct_A = find_correct_A_value(program)\n",
    "correct_A\n"
   ]
  },
  {
   "cell_type": "code",
   "execution_count": null,
   "metadata": {},
   "outputs": [],
   "source": []
  }
 ],
 "metadata": {
  "kernelspec": {
   "display_name": "Python 3",
   "language": "python",
   "name": "python3"
  },
  "language_info": {
   "codemirror_mode": {
    "name": "ipython",
    "version": 3
   },
   "file_extension": ".py",
   "mimetype": "text/x-python",
   "name": "python",
   "nbconvert_exporter": "python",
   "pygments_lexer": "ipython3",
   "version": "3.12.5"
  }
 },
 "nbformat": 4,
 "nbformat_minor": 2
}
