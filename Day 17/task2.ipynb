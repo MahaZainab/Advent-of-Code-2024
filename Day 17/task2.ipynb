{
 "cells": [
  {
   "cell_type": "code",
   "execution_count": 1,
   "metadata": {},
   "outputs": [
    {
     "name": "stdout",
     "output_type": "stream",
     "text": [
      "The correct value for A is: None\n"
     ]
    }
   ],
   "source": [
    "def execute_program(program, A, B, C):\n",
    "    ip = 0\n",
    "    output = []\n",
    "    \n",
    "    def get_combo_value(operand):\n",
    "        if operand <= 3:\n",
    "            return operand\n",
    "        elif operand == 4:\n",
    "            return A\n",
    "        elif operand == 5:\n",
    "            return B\n",
    "        elif operand == 6:\n",
    "            return C\n",
    "        elif operand == 7:\n",
    "            raise ValueError(\"Invalid operand 7 is reserved\")\n",
    "    \n",
    "    while ip < len(program):\n",
    "        if ip + 1 >= len(program):\n",
    "            break  # Prevent reading beyond the list\n",
    "        opcode = program[ip]\n",
    "        operand = program[ip + 1]\n",
    "        \n",
    "        if opcode == 0:  # adv\n",
    "            A = A // (2 ** get_combo_value(operand))\n",
    "        elif opcode == 1:  # bxl\n",
    "            B = B ^ operand\n",
    "        elif opcode == 2:  # bst\n",
    "            B = get_combo_value(operand) % 8\n",
    "        elif opcode == 3:  # jnz\n",
    "            if A != 0:\n",
    "                ip = operand\n",
    "                continue\n",
    "        elif opcode == 4:  # bxc\n",
    "            B = B ^ C\n",
    "        elif opcode == 5:  # out\n",
    "            output.append(str(get_combo_value(operand) % 8))\n",
    "        elif opcode == 6:  # bdv\n",
    "            B = A // (2 ** get_combo_value(operand))\n",
    "        elif opcode == 7:  # cdv\n",
    "            C = A // (2 ** get_combo_value(operand))\n",
    "        \n",
    "        ip += 2\n",
    "\n",
    "    return \",\".join(output)\n",
    "\n",
    "def find_correct_A_value(program):\n",
    "    B = 0\n",
    "    C = 0\n",
    "    A = 1  # Start testing from A = 1\n",
    "    max_A = 1000000  # Setting an upper limit for A to avoid infinite loop\n",
    "\n",
    "    target_program_str = \",\".join(map(str, program))\n",
    "    \n",
    "    while A <= max_A:\n",
    "        output = execute_program(program, A, B, C)\n",
    "        if output == target_program_str:\n",
    "            return A\n",
    "        A += 1  # Increment A to check the next possible value\n",
    "\n",
    "    return None  # If no valid A is found\n",
    "\n",
    "# Given program\n",
    "program = [2, 4, 1, 5, 7, 5, 1, 6, 0, 3, 4, 1, 5, 5, 3, 0]\n",
    "\n",
    "# Finding the smallest correct A\n",
    "correct_A = find_correct_A_value(program)\n",
    "print(\"The correct value for A is:\", correct_A)\n"
   ]
  },
  {
   "cell_type": "code",
   "execution_count": null,
   "metadata": {},
   "outputs": [],
   "source": []
  }
 ],
 "metadata": {
  "kernelspec": {
   "display_name": "Python 3",
   "language": "python",
   "name": "python3"
  },
  "language_info": {
   "codemirror_mode": {
    "name": "ipython",
    "version": 3
   },
   "file_extension": ".py",
   "mimetype": "text/x-python",
   "name": "python",
   "nbconvert_exporter": "python",
   "pygments_lexer": "ipython3",
   "version": "3.12.5"
  }
 },
 "nbformat": 4,
 "nbformat_minor": 2
}
