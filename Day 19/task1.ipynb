{
 "cells": [
  {
   "cell_type": "code",
   "execution_count": null,
   "metadata": {},
   "outputs": [],
   "source": []
  },
  {
   "cell_type": "code",
   "execution_count": 2,
   "metadata": {},
   "outputs": [
    {
     "name": "stdout",
     "output_type": "stream",
     "text": [
      "Number of possible designs: 6\n"
     ]
    }
   ],
   "source": [
    "def can_form_design(patterns, design):\n",
    "    dp = [False] * (len(design) + 1)\n",
    "    dp[0] = True  # An empty design can always be formed\n",
    "\n",
    "    for i in range(1, len(design) + 1):\n",
    "        for pattern in patterns:\n",
    "            if i >= len(pattern) and design[i - len(pattern):i] == pattern and dp[i - len(pattern)]:\n",
    "                dp[i] = True\n",
    "\n",
    "    return dp[len(design)]\n",
    "\n",
    "def count_possible_designs(patterns, designs):\n",
    "    count = 0\n",
    "    for design in designs:\n",
    "        if can_form_design(patterns, design):\n",
    "            count += 1\n",
    "    return count\n",
    "\n",
    "# Example input data\n",
    "patterns = [\"r\", \"wr\", \"b\", \"g\", \"bwu\", \"rb\", \"gb\", \"br\"]\n",
    "designs = [\"brwrr\", \"bggr\", \"gbbr\", \"rrbgbr\", \"ubwu\", \"bwurrg\", \"brgr\", \"bbrgwb\"]\n",
    "\n",
    "# Solve the problem\n",
    "possible_designs_count = count_possible_designs(patterns, designs)\n",
    "print(\"Number of possible designs:\", possible_designs_count)\n"
   ]
  },
  {
   "cell_type": "code",
   "execution_count": 3,
   "metadata": {},
   "outputs": [
    {
     "name": "stdout",
     "output_type": "stream",
     "text": [
      "Number of possible designs: 363\n"
     ]
    }
   ],
   "source": [
    "def can_form_design(patterns, design):\n",
    "    dp = [False] * (len(design) + 1)\n",
    "    dp[0] = True  # An empty design can always be formed\n",
    "\n",
    "    for i in range(1, len(design) + 1):\n",
    "        for pattern in patterns:\n",
    "            if i >= len(pattern) and design[i - len(pattern):i] == pattern and dp[i - len(pattern)]:\n",
    "                dp[i] = True\n",
    "\n",
    "    return dp[len(design)]\n",
    "\n",
    "def count_possible_designs(patterns, designs):\n",
    "    count = 0\n",
    "    for design in designs:\n",
    "        if can_form_design(patterns, design):\n",
    "            count += 1\n",
    "    return count\n",
    "\n",
    "def read_input_and_solve(filename):\n",
    "    with open(filename, 'r') as file:\n",
    "        lines = file.read().splitlines()\n",
    "\n",
    "    patterns = lines[0].split(', ')\n",
    "    designs = [line for line in lines[2:] if line.strip()]  # Skip the blank line and any other empty lines\n",
    "\n",
    "    # Solve the problem\n",
    "    return count_possible_designs(patterns, designs)\n",
    "\n",
    "# File path to 'input.txt'\n",
    "filename = 'input.txt'\n",
    "result = read_input_and_solve(filename)\n",
    "print(\"Number of possible designs:\", result)\n"
   ]
  },
  {
   "cell_type": "code",
   "execution_count": 4,
   "metadata": {},
   "outputs": [
    {
     "name": "stdout",
     "output_type": "stream",
     "text": [
      "Total possible arrangements of the designs: 642535800868438\n"
     ]
    }
   ],
   "source": [
    "def count_ways(patterns, design, memo):\n",
    "    if design == \"\":\n",
    "        return 1  # Successfully used up the design\n",
    "    if design in memo:\n",
    "        return memo[design]\n",
    "    \n",
    "    total_ways = 0\n",
    "    for pattern in patterns:\n",
    "        if design.startswith(pattern):\n",
    "            total_ways += count_ways(patterns, design[len(pattern):], memo)\n",
    "    \n",
    "    memo[design] = total_ways\n",
    "    return total_ways\n",
    "\n",
    "def total_possible_arrangements(patterns, designs):\n",
    "    total = 0\n",
    "    for design in designs:\n",
    "        memo = {}\n",
    "        count = count_ways(patterns, design, memo)\n",
    "        total += count\n",
    "    return total\n",
    "\n",
    "def read_input_and_solve(filename):\n",
    "    with open(filename, 'r') as file:\n",
    "        lines = file.read().splitlines()\n",
    "\n",
    "    patterns = lines[0].split(', ')\n",
    "    designs = [line for line in lines[2:] if line.strip()]  # Skip the blank line and any other empty lines\n",
    "\n",
    "    # Calculate total number of possible arrangements\n",
    "    return total_possible_arrangements(patterns, designs)\n",
    "\n",
    "# File path to 'input.txt'\n",
    "filename = 'input.txt'\n",
    "result = read_input_and_solve(filename)\n",
    "print(\"Total possible arrangements of the designs:\", result)\n"
   ]
  },
  {
   "cell_type": "code",
   "execution_count": null,
   "metadata": {},
   "outputs": [],
   "source": []
  }
 ],
 "metadata": {
  "kernelspec": {
   "display_name": "Python 3",
   "language": "python",
   "name": "python3"
  },
  "language_info": {
   "codemirror_mode": {
    "name": "ipython",
    "version": 3
   },
   "file_extension": ".py",
   "mimetype": "text/x-python",
   "name": "python",
   "nbconvert_exporter": "python",
   "pygments_lexer": "ipython3",
   "version": "3.12.5"
  }
 },
 "nbformat": 4,
 "nbformat_minor": 2
}
