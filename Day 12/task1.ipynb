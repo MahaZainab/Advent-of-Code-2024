{
 "cells": [
  {
   "cell_type": "code",
   "execution_count": 2,
   "metadata": {},
   "outputs": [
    {
     "name": "stdout",
     "output_type": "stream",
     "text": [
      "Total price of fencing all regions: 1433460\n"
     ]
    }
   ],
   "source": [
    "def calculate_price(garden_map):\n",
    "    rows = len(garden_map)\n",
    "    cols = len(garden_map[0])\n",
    "    \n",
    "    visited = [[False] * cols for _ in range(rows)]\n",
    "    \n",
    "    # Directions for moving to adjacent cells (left, right, up, down)\n",
    "    directions = [(-1, 0), (1, 0), (0, -1), (0, 1)]\n",
    "    \n",
    "    def is_valid(x, y):\n",
    "        return 0 <= x < rows and 0 <= y < cols\n",
    "    \n",
    "    def dfs(x, y, plant_type):\n",
    "        stack = [(x, y)]\n",
    "        area = 0\n",
    "        perimeter = 0\n",
    "        visited[x][y] = True\n",
    "        \n",
    "        while stack:\n",
    "            cx, cy = stack.pop()\n",
    "            area += 1\n",
    "            \n",
    "            # Check each of the four neighbors to compute perimeter and expand region\n",
    "            for dx, dy in directions:\n",
    "                nx, ny = cx + dx, cy + dy\n",
    "                \n",
    "                if is_valid(nx, ny):\n",
    "                    if garden_map[nx][ny] == plant_type and not visited[nx][ny]:\n",
    "                        visited[nx][ny] = True\n",
    "                        stack.append((nx, ny))\n",
    "                    elif garden_map[nx][ny] != plant_type:\n",
    "                        perimeter += 1  # Boundary of the region\n",
    "                else:\n",
    "                    perimeter += 1  # Out-of-bounds is considered as a boundary\n",
    "        \n",
    "        return area, perimeter\n",
    "    \n",
    "    total_price = 0\n",
    "    \n",
    "    # Traverse the garden map and find all regions\n",
    "    for i in range(rows):\n",
    "        for j in range(cols):\n",
    "            if not visited[i][j]:\n",
    "                plant_type = garden_map[i][j]\n",
    "                area, perimeter = dfs(i, j, plant_type)\n",
    "                price = area * perimeter\n",
    "                total_price += price\n",
    "    \n",
    "    return total_price\n",
    "\n",
    "# Read input from 'input.txt'\n",
    "def read_input_file(filename):\n",
    "    with open(filename, 'r') as file:\n",
    "        garden_map = [line.strip() for line in file.readlines()]\n",
    "    return garden_map\n",
    "\n",
    "# Main function to read input and solve the puzzle\n",
    "def solve_puzzle(input_file):\n",
    "    garden_map = read_input_file(input_file)\n",
    "    total_price = calculate_price(garden_map)\n",
    "    print(f\"Total price of fencing all regions: {total_price}\")\n",
    "\n",
    "# Run the puzzle solver with the input from 'input.txt'\n",
    "solve_puzzle(\"input.txt\")\n"
   ]
  },
  {
   "cell_type": "code",
   "execution_count": null,
   "metadata": {},
   "outputs": [],
   "source": []
  }
 ],
 "metadata": {
  "kernelspec": {
   "display_name": "Python 3",
   "language": "python",
   "name": "python3"
  },
  "language_info": {
   "codemirror_mode": {
    "name": "ipython",
    "version": 3
   },
   "file_extension": ".py",
   "mimetype": "text/x-python",
   "name": "python",
   "nbconvert_exporter": "python",
   "pygments_lexer": "ipython3",
   "version": "3.12.5"
  }
 },
 "nbformat": 4,
 "nbformat_minor": 2
}
