{
 "cells": [
  {
   "cell_type": "code",
   "execution_count": 1,
   "metadata": {},
   "outputs": [
    {
     "name": "stdout",
     "output_type": "stream",
     "text": [
      "Total calibration result: 1153997401072\n"
     ]
    }
   ],
   "source": [
    "import itertools\n",
    "\n",
    "# Function to evaluate expressions left to right\n",
    "def evaluate_expression(numbers, operators):\n",
    "    result = numbers[0]\n",
    "    for i in range(len(operators)):\n",
    "        if operators[i] == '+':\n",
    "            result += numbers[i+1]\n",
    "        elif operators[i] == '*':\n",
    "            result *= numbers[i+1]\n",
    "    return result\n",
    "\n",
    "# Function to solve the puzzle\n",
    "def solve_puzzle(input_lines):\n",
    "    total_calibration_result = 0\n",
    "\n",
    "    for line in input_lines:\n",
    "        # Parse the test value and the numbers\n",
    "        test_value_str, numbers_str = line.split(\":\")\n",
    "        test_value = int(test_value_str)\n",
    "        numbers = list(map(int, numbers_str.split()))\n",
    "\n",
    "        # Generate all combinations of operators between numbers\n",
    "        num_operators = len(numbers) - 1\n",
    "        operator_combinations = itertools.product(['+', '*'], repeat=num_operators)\n",
    "\n",
    "        # Check all combinations of operators\n",
    "        for operators in operator_combinations:\n",
    "            if evaluate_expression(numbers, operators) == test_value:\n",
    "                total_calibration_result += test_value\n",
    "                break  # No need to check further, this equation is valid\n",
    "\n",
    "    return total_calibration_result\n",
    "\n",
    "# Function to read input from file\n",
    "def read_input(file_path):\n",
    "    with open(file_path, 'r') as file:\n",
    "        return file.readlines()\n",
    "\n",
    "# Read input from 'input.txt' file\n",
    "input_file_path = 'input.txt'\n",
    "input_data = read_input(input_file_path)\n",
    "\n",
    "# Solve the puzzle\n",
    "result = solve_puzzle(input_data)\n",
    "print(f\"Total calibration result: {result}\")\n"
   ]
  },
  {
   "cell_type": "code",
   "execution_count": null,
   "metadata": {},
   "outputs": [],
   "source": []
  }
 ],
 "metadata": {
  "kernelspec": {
   "display_name": "Python 3",
   "language": "python",
   "name": "python3"
  },
  "language_info": {
   "codemirror_mode": {
    "name": "ipython",
    "version": 3
   },
   "file_extension": ".py",
   "mimetype": "text/x-python",
   "name": "python",
   "nbconvert_exporter": "python",
   "pygments_lexer": "ipython3",
   "version": "3.12.5"
  }
 },
 "nbformat": 4,
 "nbformat_minor": 2
}
