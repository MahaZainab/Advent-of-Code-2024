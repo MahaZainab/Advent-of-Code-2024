{
 "cells": [
  {
   "cell_type": "code",
   "execution_count": 9,
   "metadata": {},
   "outputs": [
    {
     "name": "stdout",
     "output_type": "stream",
     "text": [
      "Sum of middle page numbers from correctly ordered updates: 5275\n"
     ]
    }
   ],
   "source": [
    "def parse_input(file_path):\n",
    "    with open(file_path, \"r\") as file:\n",
    "        sections = file.read().strip().split(\"\\n\\n\")\n",
    "        rules = [tuple(map(int, line.split(\"|\"))) for line in sections[0].split(\"\\n\")]\n",
    "        updates = [list(map(int, line.split(\",\"))) for line in sections[1].split(\"\\n\")]\n",
    "    return rules, updates\n",
    "def validate_update(update, precedence_rules):\n",
    "    for x, y in precedence_rules:\n",
    "        if x in update and y in update:\n",
    "            if update.index(x) > update.index(y):\n",
    "                return False\n",
    "    return True\n",
    "def find_middle_sum(file_path):\n",
    "    rules, updates = parse_input(file_path)\n",
    "    # Validate updates\n",
    "    valid_updates = []\n",
    "    for update in updates:\n",
    "        if validate_update(update, rules):\n",
    "            valid_updates.append(update)\n",
    "    # Calculate the middle page sum\n",
    "    middle_sum = sum(update[len(update) // 2] for update in valid_updates)\n",
    "    return middle_sum\n",
    "# File path to the input data\n",
    "file_path = \"input.txt\"\n",
    "# Find and print the middle sum\n",
    "result = find_middle_sum(file_path)\n",
    "print(f\"Sum of middle page numbers from correctly ordered updates: {result}\")"
   ]
  },
  {
   "cell_type": "code",
   "execution_count": null,
   "metadata": {},
   "outputs": [
    {
     "ename": "ValueError",
     "evalue": "invalid literal for int() with base 10: '48|74'",
     "output_type": "error",
     "traceback": [
      "\u001b[1;31m---------------------------------------------------------------------------\u001b[0m",
      "\u001b[1;31mValueError\u001b[0m                                Traceback (most recent call last)",
      "Cell \u001b[1;32mIn[1], line 43\u001b[0m\n\u001b[0;32m     41\u001b[0m \u001b[38;5;66;03m# Run the main function\u001b[39;00m\n\u001b[0;32m     42\u001b[0m \u001b[38;5;28;01mif\u001b[39;00m \u001b[38;5;18m__name__\u001b[39m \u001b[38;5;241m==\u001b[39m \u001b[38;5;124m\"\u001b[39m\u001b[38;5;124m__main__\u001b[39m\u001b[38;5;124m\"\u001b[39m:\n\u001b[1;32m---> 43\u001b[0m     \u001b[43mmain\u001b[49m\u001b[43m(\u001b[49m\u001b[43m)\u001b[49m\n",
      "Cell \u001b[1;32mIn[1], line 33\u001b[0m, in \u001b[0;36mmain\u001b[1;34m()\u001b[0m\n\u001b[0;32m     31\u001b[0m \u001b[38;5;28;01mdef\u001b[39;00m \u001b[38;5;21mmain\u001b[39m():\n\u001b[0;32m     32\u001b[0m     \u001b[38;5;66;03m# Read the input from the file\u001b[39;00m\n\u001b[1;32m---> 33\u001b[0m     left_list, right_list \u001b[38;5;241m=\u001b[39m \u001b[43mread_input\u001b[49m\u001b[43m(\u001b[49m\u001b[38;5;124;43m'\u001b[39;49m\u001b[38;5;124;43minput.txt\u001b[39;49m\u001b[38;5;124;43m'\u001b[39;49m\u001b[43m)\u001b[49m\n\u001b[0;32m     35\u001b[0m     \u001b[38;5;66;03m# Calculate the total distance\u001b[39;00m\n\u001b[0;32m     36\u001b[0m     total_distance \u001b[38;5;241m=\u001b[39m calculate_total_distance(left_list, right_list)\n",
      "Cell \u001b[1;32mIn[1], line 13\u001b[0m, in \u001b[0;36mread_input\u001b[1;34m(filename)\u001b[0m\n\u001b[0;32m     10\u001b[0m \u001b[38;5;66;03m# Parse the lines into two lists\u001b[39;00m\n\u001b[0;32m     11\u001b[0m \u001b[38;5;28;01mfor\u001b[39;00m line \u001b[38;5;129;01min\u001b[39;00m lines:\n\u001b[0;32m     12\u001b[0m     \u001b[38;5;66;03m# Split by space and convert to integers\u001b[39;00m\n\u001b[1;32m---> 13\u001b[0m     left_id, right_id \u001b[38;5;241m=\u001b[39m \u001b[38;5;28mmap\u001b[39m(\u001b[38;5;28mint\u001b[39m, line\u001b[38;5;241m.\u001b[39msplit())\n\u001b[0;32m     14\u001b[0m     left_list\u001b[38;5;241m.\u001b[39mappend(left_id)\n\u001b[0;32m     15\u001b[0m     right_list\u001b[38;5;241m.\u001b[39mappend(right_id)\n",
      "\u001b[1;31mValueError\u001b[0m: invalid literal for int() with base 10: '48|74'"
     ]
    }
   ],
   "source": []
  },
  {
   "cell_type": "code",
   "execution_count": null,
   "metadata": {},
   "outputs": [],
   "source": []
  }
 ],
 "metadata": {
  "kernelspec": {
   "display_name": "Python 3",
   "language": "python",
   "name": "python3"
  },
  "language_info": {
   "codemirror_mode": {
    "name": "ipython",
    "version": 3
   },
   "file_extension": ".py",
   "mimetype": "text/x-python",
   "name": "python",
   "nbconvert_exporter": "python",
   "pygments_lexer": "ipython3",
   "version": "3.12.5"
  }
 },
 "nbformat": 4,
 "nbformat_minor": 2
}
