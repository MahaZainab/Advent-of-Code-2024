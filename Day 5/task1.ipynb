{
 "cells": [
  {
   "cell_type": "code",
   "execution_count": 9,
   "metadata": {},
   "outputs": [
    {
     "name": "stdout",
     "output_type": "stream",
     "text": [
      "Sum of middle page numbers from correctly ordered updates: 5275\n"
     ]
    }
   ],
   "source": [
    "def parse_input(file_path):\n",
    "    with open(file_path, \"r\") as file:\n",
    "        sections = file.read().strip().split(\"\\n\\n\")\n",
    "        rules = [tuple(map(int, line.split(\"|\"))) for line in sections[0].split(\"\\n\")]\n",
    "        updates = [list(map(int, line.split(\",\"))) for line in sections[1].split(\"\\n\")]\n",
    "    return rules, updates\n",
    "def validate_update(update, precedence_rules):\n",
    "    for x, y in precedence_rules:\n",
    "        if x in update and y in update:\n",
    "            if update.index(x) > update.index(y):\n",
    "                return False\n",
    "    return True\n",
    "def find_middle_sum(file_path):\n",
    "    rules, updates = parse_input(file_path)\n",
    "    # Validate updates\n",
    "    valid_updates = []\n",
    "    for update in updates:\n",
    "        if validate_update(update, rules):\n",
    "            valid_updates.append(update)\n",
    "    # Calculate the middle page sum\n",
    "    middle_sum = sum(update[len(update) // 2] for update in valid_updates)\n",
    "    return middle_sum\n",
    "# File path to the input data\n",
    "file_path = \"input.txt\"\n",
    "# Find and print the middle sum\n",
    "result = find_middle_sum(file_path)\n",
    "print(f\"Sum of middle page numbers from correctly ordered updates: {result}\")"
   ]
  },
  {
   "cell_type": "code",
   "execution_count": null,
   "metadata": {},
   "outputs": [],
   "source": []
  }
 ],
 "metadata": {
  "kernelspec": {
   "display_name": "Python 3",
   "language": "python",
   "name": "python3"
  },
  "language_info": {
   "codemirror_mode": {
    "name": "ipython",
    "version": 3
   },
   "file_extension": ".py",
   "mimetype": "text/x-python",
   "name": "python",
   "nbconvert_exporter": "python",
   "pygments_lexer": "ipython3",
   "version": "3.12.5"
  }
 },
 "nbformat": 4,
 "nbformat_minor": 2
}
