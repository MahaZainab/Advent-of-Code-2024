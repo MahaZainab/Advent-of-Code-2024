{
 "cells": [
  {
   "cell_type": "code",
   "execution_count": 1,
   "metadata": {},
   "outputs": [
    {
     "name": "stdout",
     "output_type": "stream",
     "text": [
      "Sum of middle page numbers from fixed updates: 6191\n"
     ]
    }
   ],
   "source": [
    "from collections import defaultdict, deque\n",
    "def parse_input(file_path):\n",
    "    with open(file_path, \"r\") as file:\n",
    "        sections = file.read().strip().split(\"\\n\\n\")\n",
    "        rules = [tuple(map(int, line.split(\"|\"))) for line in sections[0].split(\"\\n\")]\n",
    "        updates = [list(map(int, line.split(\",\"))) for line in sections[1].split(\"\\n\")]\n",
    "    return rules, updates\n",
    "def validate_update(update, precedence_rules):\n",
    "    for x, y in precedence_rules:\n",
    "        if x in update and y in update:\n",
    "            if update.index(x) > update.index(y):\n",
    "                return False\n",
    "    return True\n",
    "def build_graph(precedence_rules):\n",
    "    graph = defaultdict(list)\n",
    "    in_degree = defaultdict(int)\n",
    "    for x, y in precedence_rules:\n",
    "        graph[x].append(y)\n",
    "        in_degree[y] += 1\n",
    "        in_degree.setdefault(x, 0)  # Ensure all nodes appear in in_degree\n",
    "    return graph, in_degree\n",
    "def topological_sort(update, graph, in_degree):\n",
    "    # Only consider nodes present in the update\n",
    "    filtered_graph = {node: [] for node in update}\n",
    "    filtered_in_degree = {node: 0 for node in update}\n",
    "    for node in update:\n",
    "        for neighbor in graph[node]:\n",
    "            if neighbor in update:\n",
    "                filtered_graph[node].append(neighbor)\n",
    "                filtered_in_degree[neighbor] += 1\n",
    "    # Perform topological sort\n",
    "    queue = deque([node for node in update if filtered_in_degree[node] == 0])\n",
    "    sorted_update = []\n",
    "    while queue:\n",
    "        node = queue.popleft()\n",
    "        sorted_update.append(node)\n",
    "        for neighbor in filtered_graph[node]:\n",
    "            filtered_in_degree[neighbor] -= 1\n",
    "            if filtered_in_degree[neighbor] == 0:\n",
    "                queue.append(neighbor)\n",
    "    return sorted_update\n",
    "def fix_and_find_middle_sum(file_path):\n",
    "    rules, updates = parse_input(file_path)\n",
    "    graph, in_degree = build_graph(rules)\n",
    "    incorrect_updates = []\n",
    "    fixed_updates_middle_sum = 0\n",
    "    for update in updates:\n",
    "        if validate_update(update, rules):\n",
    "            continue  # Skip correctly-ordered updates\n",
    "        incorrect_updates.append(update)\n",
    "        sorted_update = topological_sort(update, graph, in_degree)\n",
    "        middle_page = sorted_update[len(sorted_update) // 2]\n",
    "        fixed_updates_middle_sum += middle_page\n",
    "    return fixed_updates_middle_sum\n",
    "# File path to the input data\n",
    "file_path = \"input.txt\"\n",
    "# Find and print the sum of middle pages for fixed updates\n",
    "result = fix_and_find_middle_sum(file_path)\n",
    "print(f\"Sum of middle page numbers from fixed updates: {result}\")"
   ]
  },
  {
   "cell_type": "code",
   "execution_count": null,
   "metadata": {},
   "outputs": [],
   "source": []
  }
 ],
 "metadata": {
  "kernelspec": {
   "display_name": "Python 3",
   "language": "python",
   "name": "python3"
  },
  "language_info": {
   "codemirror_mode": {
    "name": "ipython",
    "version": 3
   },
   "file_extension": ".py",
   "mimetype": "text/x-python",
   "name": "python",
   "nbconvert_exporter": "python",
   "pygments_lexer": "ipython3",
   "version": "3.12.5"
  }
 },
 "nbformat": 4,
 "nbformat_minor": 2
}
