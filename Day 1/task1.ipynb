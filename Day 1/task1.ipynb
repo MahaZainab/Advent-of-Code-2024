{
 "cells": [
  {
   "cell_type": "code",
   "execution_count": 1,
   "metadata": {},
   "outputs": [
    {
     "name": "stdout",
     "output_type": "stream",
     "text": [
      "Total distance: 2086478\n"
     ]
    }
   ],
   "source": [
    "def calculate_distance(left_list, right_list):\n",
    "    # Sort both lists\n",
    "    left_list.sort()\n",
    "    right_list.sort()\n",
    "    \n",
    "    # Initialize the total distance to 0\n",
    "    total_distance = 0\n",
    "    \n",
    "    # Calculate the sum of absolute differences between corresponding elements\n",
    "    for left, right in zip(left_list, right_list):\n",
    "        total_distance += abs(left - right)\n",
    "    \n",
    "    return total_distance\n",
    "\n",
    "def read_input_file(file_path):\n",
    "    left_list = []\n",
    "    right_list = []\n",
    "    \n",
    "    with open(file_path, 'r') as file:\n",
    "        for line in file:\n",
    "            # Split each line into two integers and add them to respective lists\n",
    "            left, right = map(int, line.split())\n",
    "            left_list.append(left)\n",
    "            right_list.append(right)\n",
    "    \n",
    "    return left_list, right_list\n",
    "\n",
    "# File path (replace with the actual path to your input file)\n",
    "file_path = 'input.txt'  # Change this to the actual file path\n",
    "\n",
    "# Read the input data from the file\n",
    "left_list, right_list = read_input_file(file_path)\n",
    "\n",
    "# Calculate the total distance\n",
    "total_distance = calculate_distance(left_list, right_list)\n",
    "\n",
    "# Output the result\n",
    "print(\"Total distance:\", total_distance)\n"
   ]
  },
  {
   "cell_type": "code",
   "execution_count": 1,
   "metadata": {},
   "outputs": [
    {
     "name": "stdout",
     "output_type": "stream",
     "text": [
      "The total distance between the two lists is: 2086478\n"
     ]
    }
   ],
   "source": [
    "# Function to read and process the input\n",
    "def read_input(filename):\n",
    "    with open(filename, 'r') as f:\n",
    "        lines = f.readlines()\n",
    "    \n",
    "    # Split lines into two lists\n",
    "    left_list = []\n",
    "    right_list = []\n",
    "    \n",
    "    # Parse the lines into two lists\n",
    "    for line in lines:\n",
    "        # Split by space and convert to integers\n",
    "        left_id, right_id = map(int, line.split())\n",
    "        left_list.append(left_id)\n",
    "        right_list.append(right_id)\n",
    "    \n",
    "    return left_list, right_list\n",
    "\n",
    "# Function to calculate total distance between two lists\n",
    "def calculate_total_distance(left_list, right_list):\n",
    "    # Sort both lists\n",
    "    left_list.sort()\n",
    "    right_list.sort()\n",
    "    \n",
    "    # Calculate the sum of absolute differences\n",
    "    total_distance = sum(abs(left - right) for left, right in zip(left_list, right_list))\n",
    "    \n",
    "    return total_distance\n",
    "\n",
    "# Main function\n",
    "def main():\n",
    "    # Read the input from the file\n",
    "    left_list, right_list = read_input('input.txt')\n",
    "    \n",
    "    # Calculate the total distance\n",
    "    total_distance = calculate_total_distance(left_list, right_list)\n",
    "    \n",
    "    # Output the result\n",
    "    print(f'The total distance between the two lists is: {total_distance}')\n",
    "\n",
    "# Run the main function\n",
    "if __name__ == \"__main__\":\n",
    "    main()\n"
   ]
  },
  {
   "cell_type": "code",
   "execution_count": null,
   "metadata": {},
   "outputs": [],
   "source": []
  }
 ],
 "metadata": {
  "kernelspec": {
   "display_name": "Python 3",
   "language": "python",
   "name": "python3"
  },
  "language_info": {
   "codemirror_mode": {
    "name": "ipython",
    "version": 3
   },
   "file_extension": ".py",
   "mimetype": "text/x-python",
   "name": "python",
   "nbconvert_exporter": "python",
   "pygments_lexer": "ipython3",
   "version": "3.12.5"
  }
 },
 "nbformat": 4,
 "nbformat_minor": 2
}
