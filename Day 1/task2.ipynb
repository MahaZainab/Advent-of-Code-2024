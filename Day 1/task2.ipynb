{
 "cells": [
  {
   "cell_type": "code",
   "execution_count": 1,
   "metadata": {},
   "outputs": [
    {
     "name": "stdout",
     "output_type": "stream",
     "text": [
      "Similarity score: 24941624\n"
     ]
    }
   ],
   "source": [
    "from collections import Counter\n",
    "\n",
    "def calculate_similarity_score(left_list, right_list):\n",
    "    # Count occurrences of each number in the right list\n",
    "    right_count = Counter(right_list)\n",
    "    \n",
    "    # Initialize the similarity score\n",
    "    similarity_score = 0\n",
    "    \n",
    "    # For each number in the left list, multiply it by its count in the right list\n",
    "    for number in left_list:\n",
    "        similarity_score += number * right_count[number]\n",
    "    \n",
    "    return similarity_score\n",
    "\n",
    "def read_input_file(file_path):\n",
    "    left_list = []\n",
    "    right_list = []\n",
    "    \n",
    "    with open(file_path, 'r') as file:\n",
    "        for line in file:\n",
    "            # Split each line into two integers and add them to respective lists\n",
    "            left, right = map(int, line.split())\n",
    "            left_list.append(left)\n",
    "            right_list.append(right)\n",
    "    \n",
    "    return left_list, right_list\n",
    "\n",
    "# File path (replace with the actual path to your input file)\n",
    "file_path = 'input.txt'  # Change this to the actual file path\n",
    "\n",
    "# Read the input data from the file\n",
    "left_list, right_list = read_input_file(file_path)\n",
    "\n",
    "# Calculate the similarity score\n",
    "similarity_score = calculate_similarity_score(left_list, right_list)\n",
    "\n",
    "# Output the result\n",
    "print(\"Similarity score:\", similarity_score)\n"
   ]
  },
  {
   "cell_type": "code",
   "execution_count": null,
   "metadata": {},
   "outputs": [],
   "source": []
  }
 ],
 "metadata": {
  "kernelspec": {
   "display_name": "Python 3",
   "language": "python",
   "name": "python3"
  },
  "language_info": {
   "codemirror_mode": {
    "name": "ipython",
    "version": 3
   },
   "file_extension": ".py",
   "mimetype": "text/x-python",
   "name": "python",
   "nbconvert_exporter": "python",
   "pygments_lexer": "ipython3",
   "version": "3.12.5"
  }
 },
 "nbformat": 4,
 "nbformat_minor": 2
}
