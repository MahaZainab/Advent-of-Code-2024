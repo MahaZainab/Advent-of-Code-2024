{
 "cells": [
  {
   "cell_type": "code",
   "execution_count": 1,
   "metadata": {},
   "outputs": [
    {
     "name": "stdout",
     "output_type": "stream",
     "text": [
      "6356833654075\n"
     ]
    }
   ],
   "source": [
    "\n",
    "from pathlib import Path\n",
    "\n",
    "# fn = \"ex1.txt\"\n",
    "fn = \"input.txt\"\n",
    "#fn = Path(Path(__file__).parent, fn)\n",
    "dat = open(fn).read().strip().split(\"\\n\")\n",
    "\n",
    "s = dat[0]\n",
    "files = []\n",
    "layout = []\n",
    "file_id = 0\n",
    "for i, ch in enumerate(s):\n",
    "    length = int(ch)\n",
    "    if i % 2 == 0:\n",
    "        # file blocks\n",
    "        layout.extend([str(file_id)] * length)\n",
    "        file_id += 1\n",
    "    else:\n",
    "        layout.extend([\".\"] * length)\n",
    "\n",
    "while True:\n",
    "    try:\n",
    "        gap_index = layout.index(\".\")\n",
    "    except ValueError:\n",
    "        break\n",
    "\n",
    "    found_file_to_the_right = any(ch != \".\" for ch in layout[gap_index + 1 :])\n",
    "    if not found_file_to_the_right:\n",
    "        break\n",
    "\n",
    "    for i in range(len(layout) - 1, -1, -1):\n",
    "        if layout[i] != \".\":\n",
    "            layout[gap_index], layout[i] = layout[i], \".\"\n",
    "            break\n",
    "\n",
    "checksum = 0\n",
    "for i, ch in enumerate(layout):\n",
    "    if ch != \".\":\n",
    "        checksum += i * int(ch)\n",
    "\n",
    "print(checksum)\n"
   ]
  },
  {
   "cell_type": "code",
   "execution_count": null,
   "metadata": {},
   "outputs": [],
   "source": []
  }
 ],
 "metadata": {
  "kernelspec": {
   "display_name": "Python 3",
   "language": "python",
   "name": "python3"
  },
  "language_info": {
   "codemirror_mode": {
    "name": "ipython",
    "version": 3
   },
   "file_extension": ".py",
   "mimetype": "text/x-python",
   "name": "python",
   "nbconvert_exporter": "python",
   "pygments_lexer": "ipython3",
   "version": "3.12.5"
  }
 },
 "nbformat": 4,
 "nbformat_minor": 2
}
