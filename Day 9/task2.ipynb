{
 "cells": [
  {
   "cell_type": "code",
   "execution_count": 1,
   "metadata": {},
   "outputs": [
    {
     "name": "stdout",
     "output_type": "stream",
     "text": [
      "6389911791746\n"
     ]
    }
   ],
   "source": [
    "\n",
    "from pathlib import Path\n",
    "\n",
    "# fn = \"ex1.txt\"\n",
    "fn = \"input.txt\"\n",
    "#fn = Path(Path(__file__).parent, fn)\n",
    "dat = open(fn).read().strip().split(\"\\n\")\n",
    "\n",
    "s = dat[0]\n",
    "files = []\n",
    "layout = []\n",
    "file_id = 0\n",
    "for i, ch in enumerate(s):\n",
    "    length = int(ch)\n",
    "    if i % 2 == 0:\n",
    "        layout.extend([str(file_id)] * length)\n",
    "        file_id += 1\n",
    "    else:\n",
    "        layout.extend([\".\"] * length)\n",
    "\n",
    "files_info = {}\n",
    "curr_id = None\n",
    "count = 0\n",
    "for i, ch in enumerate(layout):\n",
    "    if ch != \".\":\n",
    "        fid = int(ch)\n",
    "        if fid != curr_id:\n",
    "            curr_id = fid\n",
    "            count = 1\n",
    "            files_info[fid] = [i, 1]\n",
    "        else:\n",
    "            count += 1\n",
    "            files_info[fid][1] = count\n",
    "\n",
    "max_file_id = max(files_info.keys())\n",
    "\n",
    "\n",
    "def find_free_span(layout, file_start, file_length):\n",
    "    if file_start == 0:\n",
    "        return None\n",
    "    best_span_start = None\n",
    "    curr_start = None\n",
    "    curr_count = 0\n",
    "    for i in range(file_start):\n",
    "        if layout[i] == \".\":\n",
    "            if curr_start is None:\n",
    "                curr_start = i\n",
    "                curr_count = 1\n",
    "            else:\n",
    "                curr_count += 1\n",
    "        else:\n",
    "            if curr_count >= file_length:\n",
    "                return curr_start\n",
    "            curr_start = None\n",
    "            curr_count = 0\n",
    "    if curr_start is not None and curr_count >= file_length:\n",
    "        return curr_start\n",
    "    return None\n",
    "\n",
    "\n",
    "for fid in sorted(files_info.keys(), reverse=True):\n",
    "    start_pos, length = files_info[fid]\n",
    "    span_start = find_free_span(layout, start_pos, length)\n",
    "    if span_start is not None:\n",
    "        for i in range(start_pos, start_pos + length):\n",
    "            layout[i] = \".\"\n",
    "        for i in range(span_start, span_start + length):\n",
    "            layout[i] = str(fid)\n",
    "        files_info[fid][0] = span_start\n",
    "\n",
    "checksum = 0\n",
    "for i, ch in enumerate(layout):\n",
    "    if ch != \".\":\n",
    "        checksum += i * int(ch)\n",
    "\n",
    "print(checksum)\n"
   ]
  },
  {
   "cell_type": "code",
   "execution_count": null,
   "metadata": {},
   "outputs": [],
   "source": []
  }
 ],
 "metadata": {
  "kernelspec": {
   "display_name": "Python 3",
   "language": "python",
   "name": "python3"
  },
  "language_info": {
   "codemirror_mode": {
    "name": "ipython",
    "version": 3
   },
   "file_extension": ".py",
   "mimetype": "text/x-python",
   "name": "python",
   "nbconvert_exporter": "python",
   "pygments_lexer": "ipython3",
   "version": "3.12.5"
  }
 },
 "nbformat": 4,
 "nbformat_minor": 2
}
