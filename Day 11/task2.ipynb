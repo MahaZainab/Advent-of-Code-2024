{
 "cells": [
  {
   "cell_type": "code",
   "execution_count": null,
   "metadata": {},
   "outputs": [
    {
     "name": "stdout",
     "output_type": "stream",
     "text": [
      "Number of stones after 25 blinks: 211306\n"
     ]
    }
   ],
   "source": []
  },
  {
   "cell_type": "code",
   "execution_count": 8,
   "metadata": {},
   "outputs": [
    {
     "name": "stdout",
     "output_type": "stream",
     "text": [
      "Number of stones after 75 blinks: 250783680217283\n"
     ]
    }
   ],
   "source": [
    "def simulate_blinks_count(stones, num_blinks):\n",
    "    \"\"\"\n",
    "    Simulate the evolution of stones by counting their behavior.\n",
    "    \"\"\"\n",
    "    from collections import Counter\n",
    "    # Count the initial stones\n",
    "    stone_counts = Counter(stones)  # {stone_value: count}\n",
    "\n",
    "    for _ in range(num_blinks):\n",
    "        new_counts = Counter()\n",
    "        for stone, count in stone_counts.items():\n",
    "            if stone == 0:\n",
    "                new_counts[1] += count\n",
    "            elif len(str(stone)) % 2 == 0:  # Even number of digits\n",
    "                stone_str = str(stone)\n",
    "                mid = len(stone_str) // 2\n",
    "                left = int(stone_str[:mid])\n",
    "                right = int(stone_str[mid:])\n",
    "                new_counts[left] += count\n",
    "                new_counts[right] += count\n",
    "            else:\n",
    "                new_counts[stone * 2024] += count\n",
    "        stone_counts = new_counts\n",
    "\n",
    "    # Total number of stones\n",
    "    return sum(stone_counts.values())\n",
    "\n",
    "\n",
    "def main():\n",
    "    # Read initial stones from input.txt\n",
    "    file_path = \"input.txt\"\n",
    "\n",
    "    with open(file_path, 'r') as file:\n",
    "        content = file.read().strip()\n",
    "\n",
    "    # Extract initial stones (assume they are space-separated integers)\n",
    "    initial_stones = list(map(int, content.split()))\n",
    "\n",
    "    # Simulate blinks\n",
    "    num_blinks = 75\n",
    "    total_stones = simulate_blinks_count(initial_stones, num_blinks)\n",
    "\n",
    "    # Output the number of stones\n",
    "    print(\"Number of stones after 75 blinks:\", total_stones)\n",
    "\n",
    "\n",
    "if __name__ == \"__main__\":\n",
    "    main()"
   ]
  },
  {
   "cell_type": "code",
   "execution_count": null,
   "metadata": {},
   "outputs": [],
   "source": []
  }
 ],
 "metadata": {
  "kernelspec": {
   "display_name": "Python 3",
   "language": "python",
   "name": "python3"
  },
  "language_info": {
   "codemirror_mode": {
    "name": "ipython",
    "version": 3
   },
   "file_extension": ".py",
   "mimetype": "text/x-python",
   "name": "python",
   "nbconvert_exporter": "python",
   "pygments_lexer": "ipython3",
   "version": "3.12.5"
  }
 },
 "nbformat": 4,
 "nbformat_minor": 2
}
