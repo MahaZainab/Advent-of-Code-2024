{
 "cells": [
  {
   "cell_type": "code",
   "execution_count": 1,
   "metadata": {},
   "outputs": [
    {
     "name": "stdout",
     "output_type": "stream",
     "text": [
      "Number of stones after 25 blinks: 211306\n"
     ]
    }
   ],
   "source": [
    "def simulate_stones(stones, blinks):\n",
    "    for _ in range(blinks):\n",
    "        new_stones = []\n",
    "        for stone in stones:\n",
    "            if stone == 0:\n",
    "                # Rule 1: 0 becomes 1\n",
    "                new_stones.append(1)\n",
    "            elif len(str(stone)) % 2 == 0:\n",
    "                # Rule 2: Split the stone into two\n",
    "                stone_str = str(stone)\n",
    "                mid = len(stone_str) // 2\n",
    "                left = int(stone_str[:mid])\n",
    "                right = int(stone_str[mid:])\n",
    "                new_stones.extend([left, right])\n",
    "            else:\n",
    "                # Rule 3: Multiply by 2024\n",
    "                new_stones.append(stone * 2024)\n",
    "        stones = new_stones\n",
    "    return len(stones)\n",
    "\n",
    "# Example input\n",
    "initial_stones = [125, 17]\n",
    "\n",
    "# Read the actual input from input.txt\n",
    "with open(\"input.txt\", \"r\") as file:\n",
    "    initial_stones = list(map(int, file.read().strip().split()))\n",
    "\n",
    "# Simulate 25 blinks\n",
    "result = simulate_stones(initial_stones, 25)\n",
    "\n",
    "print(\"Number of stones after 25 blinks:\", result)\n"
   ]
  },
  {
   "cell_type": "code",
   "execution_count": null,
   "metadata": {},
   "outputs": [],
   "source": []
  }
 ],
 "metadata": {
  "kernelspec": {
   "display_name": "Python 3",
   "language": "python",
   "name": "python3"
  },
  "language_info": {
   "codemirror_mode": {
    "name": "ipython",
    "version": 3
   },
   "file_extension": ".py",
   "mimetype": "text/x-python",
   "name": "python",
   "nbconvert_exporter": "python",
   "pygments_lexer": "ipython3",
   "version": "3.12.5"
  }
 },
 "nbformat": 4,
 "nbformat_minor": 2
}
