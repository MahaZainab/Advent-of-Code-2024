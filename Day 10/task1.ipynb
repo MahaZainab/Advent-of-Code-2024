{
 "cells": [
  {
   "cell_type": "code",
   "execution_count": 1,
   "metadata": {},
   "outputs": [
    {
     "name": "stdout",
     "output_type": "stream",
     "text": [
      "629\n"
     ]
    }
   ],
   "source": [
    "from collections import deque\n",
    "\n",
    "def in_bounds(x, y, rows, cols):\n",
    "    return 0 <= x < rows and 0 <= y < cols\n",
    "\n",
    "def bfs(map_grid, start_x, start_y, rows, cols):\n",
    "    # Perform BFS to explore the reachable trail from (start_x, start_y)\n",
    "    reachable_9s = 0\n",
    "    queue = deque([(start_x, start_y)])\n",
    "    visited = set([(start_x, start_y)])\n",
    "    \n",
    "    # Directions: up, down, left, right\n",
    "    directions = [(-1, 0), (1, 0), (0, -1), (0, 1)]\n",
    "    \n",
    "    while queue:\n",
    "        x, y = queue.popleft()\n",
    "        \n",
    "        # If we reach a 9, increase the count\n",
    "        if map_grid[x][y] == 9:\n",
    "            reachable_9s += 1\n",
    "        \n",
    "        # Check all 4 directions\n",
    "        for dx, dy in directions:\n",
    "            nx, ny = x + dx, y + dy\n",
    "            if in_bounds(nx, ny, rows, cols) and (nx, ny) not in visited:\n",
    "                if map_grid[nx][ny] == map_grid[x][y] + 1:  # Must increase by 1 in height\n",
    "                    visited.add((nx, ny))\n",
    "                    queue.append((nx, ny))\n",
    "    \n",
    "    return reachable_9s\n",
    "\n",
    "def main():\n",
    "    # Read the input file\n",
    "    with open(\"input.txt\", \"r\") as file:\n",
    "        map_grid = [list(map(int, line.strip())) for line in file]\n",
    "    \n",
    "    rows = len(map_grid)\n",
    "    cols = len(map_grid[0])\n",
    "    \n",
    "    total_score = 0\n",
    "    \n",
    "    # Iterate through all positions and find trailheads (height 0)\n",
    "    for i in range(rows):\n",
    "        for j in range(cols):\n",
    "            if map_grid[i][j] == 0:\n",
    "                # Perform BFS from each trailhead\n",
    "                score = bfs(map_grid, i, j, rows, cols)\n",
    "                total_score += score\n",
    "    \n",
    "    # Output the total score of all trailheads\n",
    "    print(total_score)\n",
    "\n",
    "if __name__ == \"__main__\":\n",
    "    main()\n"
   ]
  },
  {
   "cell_type": "code",
   "execution_count": null,
   "metadata": {},
   "outputs": [],
   "source": []
  }
 ],
 "metadata": {
  "kernelspec": {
   "display_name": "Python 3",
   "language": "python",
   "name": "python3"
  },
  "language_info": {
   "codemirror_mode": {
    "name": "ipython",
    "version": 3
   },
   "file_extension": ".py",
   "mimetype": "text/x-python",
   "name": "python",
   "nbconvert_exporter": "python",
   "pygments_lexer": "ipython3",
   "version": "3.12.5"
  }
 },
 "nbformat": 4,
 "nbformat_minor": 2
}
