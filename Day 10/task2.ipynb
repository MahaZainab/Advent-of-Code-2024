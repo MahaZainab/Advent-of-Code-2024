{
 "cells": [
  {
   "cell_type": "code",
   "execution_count": 1,
   "metadata": {},
   "outputs": [
    {
     "name": "stdout",
     "output_type": "stream",
     "text": [
      "Total rating of all trailheads: 1242\n"
     ]
    }
   ],
   "source": [
    "from collections import deque\n",
    "\n",
    "# Load the input map\n",
    "with open(\"input.txt\", \"r\") as f:\n",
    "    lines = f.readlines()\n",
    "\n",
    "# Parse the input into a 2D grid of integers\n",
    "grid = [list(map(int, line.strip())) for line in lines]\n",
    "rows, cols = len(grid), len(grid[0])\n",
    "\n",
    "# Helper function to check if a position is within bounds\n",
    "def in_bounds(x, y):\n",
    "    return 0 <= x < rows and 0 <= y < cols\n",
    "\n",
    "# Possible directions: up, down, left, right\n",
    "directions = [(-1, 0), (1, 0), (0, -1), (0, 1)]\n",
    "\n",
    "# DFS to explore all distinct trails starting at a trailhead\n",
    "def count_trails(x, y):\n",
    "    # Stack-based DFS to track each path and visited nodes in the current path\n",
    "    stack = [(x, y, set())]  # (current_x, current_y, path_visited)\n",
    "    trail_count = 0\n",
    "    \n",
    "    while stack:\n",
    "        cx, cy, visited = stack.pop()\n",
    "        visited.add((cx, cy))\n",
    "        \n",
    "        # If the current height is 9, we've found a valid trail\n",
    "        if grid[cx][cy] == 9:\n",
    "            trail_count += 1\n",
    "            continue\n",
    "        \n",
    "        # Explore neighbors\n",
    "        for dx, dy in directions:\n",
    "            nx, ny = cx + dx, cy + dy\n",
    "            if in_bounds(nx, ny) and (nx, ny) not in visited and grid[nx][ny] == grid[cx][cy] + 1:\n",
    "                stack.append((nx, ny, visited.copy()))\n",
    "    \n",
    "    return trail_count\n",
    "\n",
    "# Calculate the total rating for all trailheads\n",
    "total_rating = 0\n",
    "for i in range(rows):\n",
    "    for j in range(cols):\n",
    "        if grid[i][j] == 0:  # This is a trailhead\n",
    "            total_rating += count_trails(i, j)\n",
    "\n",
    "# Output the total rating\n",
    "print(\"Total rating of all trailheads:\", total_rating)"
   ]
  },
  {
   "cell_type": "code",
   "execution_count": null,
   "metadata": {},
   "outputs": [],
   "source": []
  }
 ],
 "metadata": {
  "kernelspec": {
   "display_name": "Python 3",
   "language": "python",
   "name": "python3"
  },
  "language_info": {
   "codemirror_mode": {
    "name": "ipython",
    "version": 3
   },
   "file_extension": ".py",
   "mimetype": "text/x-python",
   "name": "python",
   "nbconvert_exporter": "python",
   "pygments_lexer": "ipython3",
   "version": "3.12.5"
  }
 },
 "nbformat": 4,
 "nbformat_minor": 2
}
