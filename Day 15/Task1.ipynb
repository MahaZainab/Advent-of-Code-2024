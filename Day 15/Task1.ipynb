{
 "cells": [
  {
   "cell_type": "code",
   "execution_count": 2,
   "metadata": {},
   "outputs": [
    {
     "name": "stdout",
     "output_type": "stream",
     "text": [
      "Part A: 1526018.0\n"
     ]
    }
   ],
   "source": [
    "import datetime\n",
    "import re\n",
    "\n",
    "# Read the input from 'input.txt' file\n",
    "def read_input(file_path):\n",
    "    with open(file_path, 'r') as f:\n",
    "        data = f.read()\n",
    "    return data\n",
    "\n",
    "# Part a: Solving the puzzle\n",
    "def a(data):\n",
    "    grid, moves = data.split(\"\\n\\n\")\n",
    "    wall = set()\n",
    "    boxes = set()\n",
    "    pos = None\n",
    "    for i, line in enumerate(grid.splitlines()):\n",
    "        width = len(line)\n",
    "        for j, c in enumerate(line):\n",
    "            if c == \"#\":\n",
    "                wall.add(j + i*1j)\n",
    "            elif c == \"O\":\n",
    "                boxes.add(j + i*1j)\n",
    "            elif c == \"@\":\n",
    "                pos = j + i*1j\n",
    "    height = i + 1\n",
    "    move2dir = {\n",
    "        \">\": 1,\n",
    "        \"^\": -1j,\n",
    "        \"<\": -1,\n",
    "        \"v\": 1j,\n",
    "    }\n",
    "    for move in moves.replace(\"\\n\", \"\"):\n",
    "        dir = move2dir[move]\n",
    "        if pos + dir in wall:\n",
    "            continue\n",
    "        if pos + dir not in boxes:\n",
    "            pos += dir\n",
    "            continue\n",
    "        boxes_to_move = 0\n",
    "        pos_to_check = pos + dir\n",
    "        while True:\n",
    "            if pos_to_check in boxes:\n",
    "                boxes_to_move += 1\n",
    "                pos_to_check += dir\n",
    "            elif pos_to_check in wall:\n",
    "                boxes_to_move = 0\n",
    "                break\n",
    "            else:\n",
    "                break\n",
    "        if boxes_to_move > 0:\n",
    "            pos += dir\n",
    "            box_to_move = pos\n",
    "            boxes.remove(pos)\n",
    "            boxes.add(pos + boxes_to_move * dir)\n",
    "    s = 0\n",
    "    for box in boxes:\n",
    "        s += box.real + 100 * box.imag\n",
    "    return s\n",
    "\n",
    "# Part b: (example placeholder for part b, you can add the logic as needed)\n",
    "def b(data):\n",
    "    print(\"Part B is not implemented yet.\")\n",
    "    return 0\n",
    "\n",
    "# Main execution function\n",
    "def main():\n",
    "    # Read the input from the file\n",
    "    input_data = read_input('input.txt')\n",
    "\n",
    "    # Solve part a\n",
    "    answer_a = a(input_data)\n",
    "    print(\"Part A:\", answer_a)\n",
    "\n",
    "   \n",
    "\n",
    "    # Optionally, print the results to a text file or store them\n",
    "    # For example, puzzle.answer_a = answer_a, puzzle.answer_b = answer_b, etc.\n",
    "\n",
    "if __name__ == '__main__':\n",
    "    main()\n"
   ]
  },
  {
   "cell_type": "code",
   "execution_count": null,
   "metadata": {},
   "outputs": [],
   "source": []
  }
 ],
 "metadata": {
  "kernelspec": {
   "display_name": "Python 3",
   "language": "python",
   "name": "python3"
  },
  "language_info": {
   "codemirror_mode": {
    "name": "ipython",
    "version": 3
   },
   "file_extension": ".py",
   "mimetype": "text/x-python",
   "name": "python",
   "nbconvert_exporter": "python",
   "pygments_lexer": "ipython3",
   "version": "3.12.5"
  }
 },
 "nbformat": 4,
 "nbformat_minor": 2
}
