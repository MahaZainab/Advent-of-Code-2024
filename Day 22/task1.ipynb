{
 "cells": [
  {
   "cell_type": "code",
   "execution_count": 2,
   "metadata": {},
   "outputs": [
    {
     "name": "stdout",
     "output_type": "stream",
     "text": [
      "Sum of the 2000th secret number from each buyer: 17965282217\n"
     ]
    }
   ],
   "source": [
    "def next_secret(current):\n",
    "    MODULO = 16777216\n",
    "    # Step 1: Multiply by 64\n",
    "    step1 = (current * 64) % MODULO\n",
    "    current = current ^ step1\n",
    "\n",
    "    # Step 2: Integer division by 32\n",
    "    step2 = current // 32\n",
    "    current = current ^ step2\n",
    "    \n",
    "    # Step 3: Multiply by 2048\n",
    "    step3 = (current * 2048) % MODULO\n",
    "    current = current ^ step3\n",
    "    \n",
    "    # Apply the final modulo to prune the number\n",
    "    return current % MODULO\n",
    "\n",
    "def simulate_secret_numbers(initial_secrets, iterations=2000):\n",
    "    results = []\n",
    "    for secret in initial_secrets:\n",
    "        current = secret\n",
    "        for _ in range(iterations):\n",
    "            current = next_secret(current)\n",
    "        results.append(current)\n",
    "    \n",
    "    # Return the sum of the 2000th secret numbers from all buyers\n",
    "    return sum(results)\n",
    "\n",
    "def read_secrets_from_file(file_path):\n",
    "    with open(file_path, 'r') as file:\n",
    "        initial_secrets = [int(line.strip()) for line in file if line.strip()]\n",
    "    return initial_secrets\n",
    "\n",
    "# Path to the input file\n",
    "file_path = 'input.txt'\n",
    "\n",
    "# Read initial secrets from the file\n",
    "initial_secrets = read_secrets_from_file(file_path)\n",
    "\n",
    "# Simulate the secret number generation and get the result\n",
    "result = simulate_secret_numbers(initial_secrets)\n",
    "\n",
    "print(\"Sum of the 2000th secret number from each buyer:\", result)\n"
   ]
  },
  {
   "cell_type": "code",
   "execution_count": 3,
   "metadata": {},
   "outputs": [
    {
     "name": "stdout",
     "output_type": "stream",
     "text": [
      "Best sequence of price changes: (1, -3, 3, 1)\n",
      "Maximum number of bananas: 2288\n"
     ]
    }
   ],
   "source": [
    "def next_secret(current):\n",
    "    MODULO = 16777216\n",
    "    # Step 1: Multiply by 64\n",
    "    step1 = (current * 64) % MODULO\n",
    "    current = current ^ step1\n",
    "\n",
    "    # Step 2: Integer division by 32\n",
    "    step2 = current // 32\n",
    "    current = current ^ step2\n",
    "    \n",
    "    # Step 3: Multiply by 2048\n",
    "    step3 = (current * 2048) % MODULO\n",
    "    current = current ^ step3\n",
    "    \n",
    "    # Apply the final modulo to prune the number\n",
    "    return current % MODULO\n",
    "\n",
    "def get_price_changes(secrets, iterations=2000):\n",
    "    prices = [secret % 10 for secret in secrets]\n",
    "    changes = []\n",
    "    for i in range(1, len(prices)):\n",
    "        changes.append(prices[i] - prices[i - 1])\n",
    "    return prices, changes\n",
    "\n",
    "def find_best_change_sequence(buyers_data):\n",
    "    from collections import defaultdict\n",
    "    # Map sequences of four changes to the highest price obtained after that sequence\n",
    "    sequence_price_map = defaultdict(list)\n",
    "    \n",
    "    for prices, changes in buyers_data:\n",
    "        for i in range(len(changes) - 3):\n",
    "            change_sequence = tuple(changes[i:i+4])\n",
    "            price = prices[i+4]  # price right after the sequence\n",
    "            sequence_price_map[change_sequence].append(price)\n",
    "    \n",
    "    # Determine which sequence of changes yields the highest sum of prices\n",
    "    best_sequence = max(sequence_price_map.items(), key=lambda x: sum(x[1]))\n",
    "    best_total_price = sum(best_sequence[1])\n",
    "    return best_total_price, best_sequence[0]\n",
    "\n",
    "def main(file_path):\n",
    "    initial_secrets = read_secrets_from_file(file_path)\n",
    "    \n",
    "    buyers_data = []\n",
    "    for secret in initial_secrets:\n",
    "        secrets = [secret]\n",
    "        for _ in range(2000):\n",
    "            secrets.append(next_secret(secrets[-1]))\n",
    "        \n",
    "        prices, changes = get_price_changes(secrets)\n",
    "        buyers_data.append((prices, changes))\n",
    "    \n",
    "    best_total_price, best_sequence = find_best_change_sequence(buyers_data)\n",
    "    print(f\"Best sequence of price changes: {best_sequence}\")\n",
    "    print(f\"Maximum number of bananas: {best_total_price}\")\n",
    "\n",
    "# Example file_path usage\n",
    "file_path = 'input.txt'\n",
    "main(file_path)\n"
   ]
  },
  {
   "cell_type": "code",
   "execution_count": null,
   "metadata": {},
   "outputs": [],
   "source": []
  }
 ],
 "metadata": {
  "kernelspec": {
   "display_name": "Python 3",
   "language": "python",
   "name": "python3"
  },
  "language_info": {
   "codemirror_mode": {
    "name": "ipython",
    "version": 3
   },
   "file_extension": ".py",
   "mimetype": "text/x-python",
   "name": "python",
   "nbconvert_exporter": "python",
   "pygments_lexer": "ipython3",
   "version": "3.12.5"
  }
 },
 "nbformat": 4,
 "nbformat_minor": 2
}
