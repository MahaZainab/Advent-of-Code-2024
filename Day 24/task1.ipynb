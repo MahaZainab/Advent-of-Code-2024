{
 "cells": [
  {
   "cell_type": "code",
   "execution_count": 5,
   "metadata": {},
   "outputs": [
    {
     "name": "stdout",
     "output_type": "stream",
     "text": [
      "45213383376616\n"
     ]
    }
   ],
   "source": [
    "def parse_input(file_path):\n",
    "    with open(file_path, 'r') as f:\n",
    "        lines = f.read().splitlines()\n",
    "\n",
    "    wire_values = {}\n",
    "    gates = []\n",
    "\n",
    "    for line in lines:\n",
    "        if \":\" in line:\n",
    "            wire, value = line.split(\": \")\n",
    "            wire_values[wire] = int(value)\n",
    "        elif \"->\" in line:\n",
    "            gates.append(line)\n",
    "\n",
    "    return wire_values, gates\n",
    "\n",
    "def evaluate_gate(gate, wire_values):\n",
    "    parts = gate.split()\n",
    "\n",
    "    if \"AND\" in parts:\n",
    "        a, _, b, _, out = parts\n",
    "        wire_values[out] = wire_values.get(a, 0) & wire_values.get(b, 0)\n",
    "    elif \"OR\" in parts:\n",
    "        a, _, b, _, out = parts\n",
    "        wire_values[out] = wire_values.get(a, 0) | wire_values.get(b, 0)\n",
    "    elif \"XOR\" in parts:\n",
    "        a, _, b, _, out = parts\n",
    "        wire_values[out] = wire_values.get(a, 0) ^ wire_values.get(b, 0)\n",
    "\n",
    "    return wire_values\n",
    "\n",
    "def simulate_gates(wire_values, gates):\n",
    "    unresolved_gates = gates[:]\n",
    "\n",
    "    while unresolved_gates:\n",
    "        next_unresolved = []\n",
    "\n",
    "        for gate in unresolved_gates:\n",
    "            parts = gate.split()\n",
    "            a, _, b, _, out = parts\n",
    "\n",
    "            if a in wire_values and b in wire_values:\n",
    "                wire_values = evaluate_gate(gate, wire_values)\n",
    "            else:\n",
    "                next_unresolved.append(gate)\n",
    "\n",
    "        unresolved_gates = next_unresolved\n",
    "\n",
    "    return wire_values\n",
    "\n",
    "def get_output(wire_values):\n",
    "    z_wires = {k: v for k, v in wire_values.items() if k.startswith('z')}\n",
    "    sorted_z_wires = [v for k, v in sorted(z_wires.items())]\n",
    "    binary_output = ''.join(map(str, sorted_z_wires[::-1]))\n",
    "    return int(binary_output, 2)\n",
    "\n",
    "if __name__ == \"__main__\":\n",
    "    input_file = \"input.txt\"\n",
    "    wire_values, gates = parse_input(input_file)\n",
    "    wire_values = simulate_gates(wire_values, gates)\n",
    "    result = get_output(wire_values)\n",
    "    print(result)"
   ]
  },
  {
   "cell_type": "code",
   "execution_count": null,
   "metadata": {},
   "outputs": [],
   "source": []
  }
 ],
 "metadata": {
  "kernelspec": {
   "display_name": "Python 3",
   "language": "python",
   "name": "python3"
  },
  "language_info": {
   "codemirror_mode": {
    "name": "ipython",
    "version": 3
   },
   "file_extension": ".py",
   "mimetype": "text/x-python",
   "name": "python",
   "nbconvert_exporter": "python",
   "pygments_lexer": "ipython3",
   "version": "3.12.5"
  }
 },
 "nbformat": 4,
 "nbformat_minor": 2
}
