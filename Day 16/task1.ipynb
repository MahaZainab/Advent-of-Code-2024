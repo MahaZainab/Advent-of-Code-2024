{
 "cells": [
  {
   "cell_type": "code",
   "execution_count": 4,
   "metadata": {},
   "outputs": [
    {
     "name": "stdout",
     "output_type": "stream",
     "text": [
      "Lowest score: 111480\n"
     ]
    }
   ],
   "source": [
    "from heapq import heappop, heappush\n",
    "\n",
    "def parse_maze(input_str):\n",
    "    maze = [list(line) for line in input_str.strip().split(\"\\n\")]\n",
    "    start, end = None, None\n",
    "    for y, row in enumerate(maze):\n",
    "        for x, cell in enumerate(row):\n",
    "            if cell == 'S':\n",
    "                start = (x, y)\n",
    "            elif cell == 'E':\n",
    "                end = (x, y)\n",
    "    return maze, start, end\n",
    "\n",
    "def solve_maze(input_str):\n",
    "    # Parse the maze\n",
    "    maze, start, end = parse_maze(input_str)\n",
    "    \n",
    "    # Define movement directions: (dx, dy, direction name)\n",
    "    directions = [(0, -1, 'N'), (1, 0, 'E'), (0, 1, 'S'), (-1, 0, 'W')]\n",
    "    direction_map = {d[2]: i for i, d in enumerate(directions)}\n",
    "\n",
    "    # Priority queue for Dijkstra's\n",
    "    pq = []\n",
    "    heappush(pq, (0, start[0], start[1], 'E'))  # (cost, x, y, facing)\n",
    "\n",
    "    # Visited set: (x, y, facing)\n",
    "    visited = set()\n",
    "\n",
    "    while pq:\n",
    "        cost, x, y, facing = heappop(pq)\n",
    "\n",
    "        # If reached the end, return the cost\n",
    "        if (x, y) == end:\n",
    "            return cost\n",
    "\n",
    "        # Skip if already visited\n",
    "        if (x, y, facing) in visited:\n",
    "            continue\n",
    "        visited.add((x, y, facing))\n",
    "\n",
    "        # Current direction index\n",
    "        current_dir_index = direction_map[facing]\n",
    "\n",
    "        # Explore neighbors\n",
    "        for i, (dx, dy, new_dir) in enumerate(directions):\n",
    "            nx, ny = x + dx, y + dy\n",
    "\n",
    "            # If moving forward\n",
    "            if i == current_dir_index:\n",
    "                if maze[ny][nx] != '#':  # Valid forward move\n",
    "                    heappush(pq, (cost + 1, nx, ny, new_dir))\n",
    "\n",
    "            # If turning (rotating clockwise or counterclockwise)\n",
    "            else:\n",
    "                turn_cost = 1000\n",
    "                heappush(pq, (cost + turn_cost, x, y, new_dir))\n",
    "\n",
    "    return float('inf')  # No solution found\n",
    "\n",
    "# Read input from file\n",
    "with open(\"input.txt\", \"r\") as file:\n",
    "    input_str = file.read()\n",
    "\n",
    "# Solve the maze\n",
    "result = solve_maze(input_str)\n",
    "print(\"Lowest score:\", result)"
   ]
  },
  {
   "cell_type": "code",
   "execution_count": null,
   "metadata": {},
   "outputs": [],
   "source": []
  }
 ],
 "metadata": {
  "kernelspec": {
   "display_name": "Python 3",
   "language": "python",
   "name": "python3"
  },
  "language_info": {
   "codemirror_mode": {
    "name": "ipython",
    "version": 3
   },
   "file_extension": ".py",
   "mimetype": "text/x-python",
   "name": "python",
   "nbconvert_exporter": "python",
   "pygments_lexer": "ipython3",
   "version": "3.12.5"
  }
 },
 "nbformat": 4,
 "nbformat_minor": 2
}
