{
 "cells": [
  {
   "cell_type": "code",
   "execution_count": 4,
   "metadata": {},
   "outputs": [
    {
     "name": "stdout",
     "output_type": "stream",
     "text": [
      "Quadrants: [119, 115, 132, 128]\n",
      "Safety Factor: 231221760\n"
     ]
    }
   ],
   "source": [
    "import numpy as np\n",
    "\n",
    "def parse_input(input_data):\n",
    "    robots = []\n",
    "    for line in input_data.strip().split(\"\\n\"):\n",
    "        position, velocity = line.split(\" v=\")\n",
    "        px, py = map(int, position[2:].split(\",\"))\n",
    "        vx, vy = map(int, velocity.split(\",\"))\n",
    "        robots.append(((px, py), (vx, vy)))\n",
    "    return robots\n",
    "\n",
    "def simulate_robots(robots, width, height, seconds):\n",
    "    final_positions = []\n",
    "\n",
    "    for (px, py), (vx, vy) in robots:\n",
    "        # Compute the position after the given seconds, accounting for wrapping\n",
    "        final_x = (px + vx * seconds) % width\n",
    "        final_y = (py + vy * seconds) % height\n",
    "        final_positions.append((final_x, final_y))\n",
    "\n",
    "    return final_positions\n",
    "\n",
    "def count_quadrants(positions, width, height):\n",
    "    mid_x = width // 2\n",
    "    mid_y = height // 2\n",
    "\n",
    "    quadrants = [0, 0, 0, 0]  # Top-left, Top-right, Bottom-left, Bottom-right\n",
    "\n",
    "    for x, y in positions:\n",
    "        if x == mid_x or y == mid_y:\n",
    "            continue  # Ignore robots exactly in the middle\n",
    "\n",
    "        if x < mid_x and y < mid_y:\n",
    "            quadrants[0] += 1  # Top-left\n",
    "        elif x >= mid_x and y < mid_y:\n",
    "            quadrants[1] += 1  # Top-right\n",
    "        elif x < mid_x and y >= mid_y:\n",
    "            quadrants[2] += 1  # Bottom-left\n",
    "        else:\n",
    "            quadrants[3] += 1  # Bottom-right\n",
    "\n",
    "    return quadrants\n",
    "\n",
    "def calculate_safety_factor(quadrants):\n",
    "    factor = 1\n",
    "    for count in quadrants:\n",
    "        factor *= count\n",
    "    return factor\n",
    "\n",
    "def main():\n",
    "    # Read input from file\n",
    "    with open(\"input2.txt\", \"r\") as file:\n",
    "        input_data = file.read()\n",
    "\n",
    "    # Parse input\n",
    "    robots = parse_input(input_data)\n",
    "\n",
    "    # Simulate positions after 100 seconds\n",
    "    width, height = 101, 103\n",
    "    seconds = 100\n",
    "    final_positions = simulate_robots(robots, width, height, seconds)\n",
    "\n",
    "    # Count robots in each quadrant\n",
    "    quadrants = count_quadrants(final_positions, width, height)\n",
    "\n",
    "    # Calculate safety factor\n",
    "    safety_factor = calculate_safety_factor(quadrants)\n",
    "\n",
    "    print(\"Quadrants:\", quadrants)\n",
    "    print(\"Safety Factor:\", safety_factor)\n",
    "\n",
    "if __name__ == \"__main__\":\n",
    "    main()\n"
   ]
  },
  {
   "cell_type": "code",
   "execution_count": null,
   "metadata": {},
   "outputs": [],
   "source": []
  }
 ],
 "metadata": {
  "kernelspec": {
   "display_name": "Python 3",
   "language": "python",
   "name": "python3"
  },
  "language_info": {
   "codemirror_mode": {
    "name": "ipython",
    "version": 3
   },
   "file_extension": ".py",
   "mimetype": "text/x-python",
   "name": "python",
   "nbconvert_exporter": "python",
   "pygments_lexer": "ipython3",
   "version": "3.12.5"
  }
 },
 "nbformat": 4,
 "nbformat_minor": 2
}
